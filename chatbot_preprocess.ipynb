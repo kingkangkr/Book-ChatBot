{
  "cells": [
    {
      "cell_type": "code",
      "execution_count": 1,
      "metadata": {
        "id": "6YiuDvmraIht"
      },
      "outputs": [],
      "source": [
        "import pandas as pd"
      ]
    },
    {
      "cell_type": "code",
      "execution_count": 4,
      "metadata": {
        "colab": {
          "base_uri": "https://localhost:8080/"
        },
        "id": "0n5ZwRzMaIhu",
        "outputId": "87e950d0-e6e2-4599-92ba-aa3c750b7faf"
      },
      "outputs": [
        {
          "output_type": "stream",
          "name": "stdout",
          "text": [
            "   Unnamed: 0                            book_name  \\\n",
            "0           0          The Highly Sensitive Person   \n",
            "1           1  Why Has Nobody Told Me This Before?   \n",
            "2           2                 The Midnight Library   \n",
            "3           3                      Brave New World   \n",
            "4           4                                 1984   \n",
            "\n",
            "                                           summaries categories  \\\n",
            "0   is a self-assessment guide and how-to-live te...    science   \n",
            "1   is a collection of a clinical psychologist’s ...    science   \n",
            "2   tells the story of Nora, a depressed woman in...    science   \n",
            "3   presents a futuristic society engineered perf...    science   \n",
            "4   is the story of a man questioning the system ...    science   \n",
            "\n",
            "                                           embedding  \n",
            "0  [-0.027592381462454796, 0.02508273534476757, 0...  \n",
            "1  [-0.010329793207347393, 0.0206208024173975, 0....  \n",
            "2  [-0.01274832896888256, -0.017568137496709824, ...  \n",
            "3  [-0.00034115940798074007, -0.00196639355272054...  \n",
            "4  [0.015045898035168648, -0.02341669239103794, -...  \n"
          ]
        }
      ],
      "source": [
        "import pickle\n",
        "\n",
        "# embeddings.pkl 파일 불러오기\n",
        "with open('/content/embeddings.pkl', 'rb') as f:\n",
        "    df = pickle.load(f)\n",
        "\n",
        "# 데이터 확인\n",
        "print(df.head())"
      ]
    },
    {
      "cell_type": "code",
      "source": [
        "df.shape"
      ],
      "metadata": {
        "colab": {
          "base_uri": "https://localhost:8080/"
        },
        "id": "kZ-AjRKLqzPK",
        "outputId": "3cace502-db90-48fb-92e1-c87ca034db7d"
      },
      "execution_count": 5,
      "outputs": [
        {
          "output_type": "execute_result",
          "data": {
            "text/plain": [
              "(5201, 5)"
            ]
          },
          "metadata": {},
          "execution_count": 5
        }
      ]
    },
    {
      "cell_type": "code",
      "execution_count": 6,
      "metadata": {
        "colab": {
          "base_uri": "https://localhost:8080/"
        },
        "id": "39WrlxCKaIhu",
        "outputId": "bdbd4b27-df3d-4c21-9518-a84716e40a22"
      },
      "outputs": [
        {
          "output_type": "stream",
          "name": "stdout",
          "text": [
            "   Unnamed: 0                            book_name  \\\n",
            "0           0          The Highly Sensitive Person   \n",
            "1           1  Why Has Nobody Told Me This Before?   \n",
            "2           2                 The Midnight Library   \n",
            "3           3                      Brave New World   \n",
            "4           4                                 1984   \n",
            "\n",
            "                                           summaries categories  \\\n",
            "0   is a self-assessment guide and how-to-live te...    science   \n",
            "1   is a collection of a clinical psychologist’s ...    science   \n",
            "2   tells the story of Nora, a depressed woman in...    science   \n",
            "3   presents a futuristic society engineered perf...    science   \n",
            "4   is the story of a man questioning the system ...    science   \n",
            "\n",
            "                                           embedding  \n",
            "0  [-0.027592381462454796, 0.02508273534476757, 0...  \n",
            "1  [-0.010329793207347393, 0.0206208024173975, 0....  \n",
            "2  [-0.01274832896888256, -0.017568137496709824, ...  \n",
            "3  [-0.00034115940798074007, -0.00196639355272054...  \n",
            "4  [0.015045898035168648, -0.02341669239103794, -...  \n",
            "중복 제거 후 데이터프레임 크기: (1231, 5)\n"
          ]
        }
      ],
      "source": [
        "# book_name 컬럼에서 중복 제거\n",
        "df = df.drop_duplicates(subset='book_name')\n",
        "\n",
        "# 중복 제거 결과 확인\n",
        "print(df.head())\n",
        "print(f\"중복 제거 후 데이터프레임 크기: {df.shape}\")\n"
      ]
    },
    {
      "cell_type": "code",
      "execution_count": 7,
      "metadata": {
        "colab": {
          "base_uri": "https://localhost:8080/"
        },
        "id": "EEqyJvlbaIhu",
        "outputId": "273feab6-b197-49fa-9d1f-9adde6caf377"
      },
      "outputs": [
        {
          "output_type": "stream",
          "name": "stdout",
          "text": [
            "결측치(NaN 또는 None) 임베딩 개수: 1\n",
            "리스트 형태가 아닌 임베딩 개수: 1\n",
            "1536차원이 아닌 임베딩 개수: 0\n"
          ]
        }
      ],
      "source": [
        "import numpy as np\n",
        "import pandas as pd\n",
        "\n",
        "#  결측치(NaN 또는 None) 확인\n",
        "missing_embeddings = df['embedding'].isnull().sum()\n",
        "print(f\"결측치(NaN 또는 None) 임베딩 개수: {missing_embeddings}\")\n",
        "\n",
        "#  임베딩 값이 올바른지(리스트인지) 확인\n",
        "invalid_embeddings = df['embedding'].apply(lambda x: not isinstance(x, list)).sum()\n",
        "print(f\"리스트 형태가 아닌 임베딩 개수: {invalid_embeddings}\")\n",
        "\n",
        "#  임베딩 벡터 길이(차원) 검사 (예: 1536차원)\n",
        "incorrect_dim_embeddings = df['embedding'].apply(lambda x: isinstance(x, list) and len(x) != 1536).sum()\n",
        "print(f\"1536차원이 아닌 임베딩 개수: {incorrect_dim_embeddings}\")\n"
      ]
    },
    {
      "cell_type": "code",
      "source": [
        "#  결측치(NaN 또는 None)인 데이터 출력\n",
        "print(\"결측치(NaN 또는 None) 데이터:\")\n",
        "print(df[df['embedding'].isnull()])\n",
        "\n",
        "#  리스트 형태가 아닌 데이터 출력\n",
        "print(\"리스트 형태가 아닌 데이터:\")\n",
        "print(df[df['embedding'].apply(lambda x: not isinstance(x, list))])\n"
      ],
      "metadata": {
        "colab": {
          "base_uri": "https://localhost:8080/"
        },
        "id": "4a5H70whrBYZ",
        "outputId": "12c9f274-1ca0-48c4-f593-43d891cffa41"
      },
      "execution_count": 8,
      "outputs": [
        {
          "output_type": "stream",
          "name": "stdout",
          "text": [
            "결측치(NaN 또는 None) 데이터:\n",
            "     Unnamed: 0                     book_name summaries     categories  \\\n",
            "823         829  The Power Of Full Engagement       NaN  relationships   \n",
            "\n",
            "    embedding  \n",
            "823      None  \n",
            "리스트 형태가 아닌 데이터:\n",
            "     Unnamed: 0                     book_name summaries     categories  \\\n",
            "823         829  The Power Of Full Engagement       NaN  relationships   \n",
            "\n",
            "    embedding  \n",
            "823      None  \n"
          ]
        }
      ]
    },
    {
      "cell_type": "code",
      "source": [
        "# summaries 컬럼에서 결측치(NaN 또는 None) 제거\n",
        "df = df[df['summaries'].notnull()]\n",
        "\n",
        "# embedding 컬럼에서도 결측치(NaN 또는 None) 제거\n",
        "df = df[df['embedding'].notnull()]\n",
        "\n",
        "# 결과 확인\n",
        "print(f\"남은 데이터 개수: {len(df)}\")\n"
      ],
      "metadata": {
        "colab": {
          "base_uri": "https://localhost:8080/"
        },
        "id": "GP2tmgpcrGmM",
        "outputId": "d804b5d1-1724-4fd5-ba7a-1f73b1ff1548"
      },
      "execution_count": 9,
      "outputs": [
        {
          "output_type": "stream",
          "name": "stdout",
          "text": [
            "남은 데이터 개수: 1230\n"
          ]
        }
      ]
    },
    {
      "cell_type": "code",
      "source": [
        "import numpy as np\n",
        "from sklearn.metrics.pairwise import cosine_similarity\n",
        "\n",
        "# 유사한 책 검색 함수\n",
        "def search_similar_books(book_title, top_n=5):\n",
        "    try:\n",
        "        # 입력값 존재 여부 확인\n",
        "        if book_title not in df['book_name'].values:\n",
        "            print(f\"'{book_title}' 제목의 책을 찾을 수 없습니다.\")\n",
        "            return None\n",
        "\n",
        "        # 입력된 책 제목, 줄거리, 장르 출력\n",
        "        book_info = df.loc[df['book_name'] == book_title, ['book_name', 'summaries', 'categories']].iloc[0]\n",
        "        print(\" 입력한 책 정보\")\n",
        "        print(f\" 제목: {book_info['book_name']}\")\n",
        "        print(f\" 줄거리: {book_info['summaries']}\")\n",
        "        print(f\" 장르: {book_info['categories']}\\n\")\n",
        "\n",
        "        # 입력된 책 제목과 일치하는 책의 임베딩 불러오기\n",
        "        query_embedding = np.array(df.loc[df['book_name'] == book_title, 'embedding'].values[0])\n",
        "\n",
        "        # 책 임베딩 불러오기 (numpy 배열로 변환)\n",
        "        book_embeddings = np.array(df['embedding'].tolist())\n",
        "\n",
        "        # 코사인 유사도 계산\n",
        "        similarities = cosine_similarity([query_embedding], book_embeddings)[0]\n",
        "\n",
        "        # 유사도가 높은 Top N 도서 인덱스 추출 (자기 자신 제외)\n",
        "        top_indices = similarities.argsort()[-(top_n + 1):][::-1]\n",
        "        top_indices = [idx for idx in top_indices if df.iloc[idx]['book_name'] != book_title][:top_n]\n",
        "\n",
        "        # 추천 결과 반환 (책 제목, 줄거리, 카테고리)\n",
        "        return df.iloc[top_indices][['book_name', 'summaries', 'categories']]\n",
        "\n",
        "    except Exception as e:\n",
        "        print(f\"유사도 계산 중 오류 발생: {e}\")\n",
        "        return None\n"
      ],
      "metadata": {
        "id": "XU-naup1rM7D"
      },
      "execution_count": 15,
      "outputs": []
    },
    {
      "cell_type": "code",
      "source": [
        "\n",
        "# 예시 실행\n",
        "book_title_input = input(\"추천을 원하는 책 제목을 입력하세요: \")\n",
        "recommended_books = search_similar_books(book_title_input, top_n=5)\n",
        "\n",
        "# 결과 확인\n",
        "if recommended_books is not None:\n",
        "    print(recommended_books)\n"
      ],
      "metadata": {
        "colab": {
          "base_uri": "https://localhost:8080/"
        },
        "id": "QWTy_Qh1rOcL",
        "outputId": "8d1b995d-8c4e-47c4-db32-805fac9a1665"
      },
      "execution_count": 16,
      "outputs": [
        {
          "output_type": "stream",
          "name": "stdout",
          "text": [
            "추천을 원하는 책 제목을 입력하세요: 1984\n",
            " 입력한 책 정보\n",
            " 제목: 1984\n",
            " 줄거리:  is the story of a man questioning the system that keeps his futuristic but dystopian society afloat and the chaos that quickly ensues once he gives in to his natural curiosity and desire to be free.\n",
            " 장르: science\n",
            "\n",
            "                               book_name  \\\n",
            "561           The Picture of Dorian Gray   \n",
            "3                        Brave New World   \n",
            "4469                          Wonderland   \n",
            "27              The Sovereign Individual   \n",
            "103   Brief Answers To The Big Questions   \n",
            "\n",
            "                                              summaries     categories  \n",
            "561    tells the story of a young, beautiful man who...  relationships  \n",
            "3      presents a futuristic society engineered perf...        science  \n",
            "4469   shows you that much of societal and technolog...     technology  \n",
            "27     jumps into the future and presents a new worl...        science  \n",
            "103    tackles some of the universe’s biggest myster...        science  \n"
          ]
        }
      ]
    },
    {
      "cell_type": "code",
      "source": [
        "# 결과 확인 (한 번만 전체 출력)\n",
        "if recommended_books is not None:\n",
        "    print(recommended_books.to_string(index=False))\n",
        "# 결과 5개\n",
        "# 도리언 그레이의 초상\n",
        "# 멋진 신세계\n",
        "# 원더랜드 스티브 존슨https://product.kyobobook.co.kr/detail/S000000695602\n",
        "# https://en.wikipedia.org/wiki/The_Sovereign_Individual\n",
        "# 스티븐 호킹 논픽션"
      ],
      "metadata": {
        "colab": {
          "base_uri": "https://localhost:8080/"
        },
        "id": "lgddcbvIsdLh",
        "outputId": "dc604003-c53c-4370-e902-dd545e163668"
      },
      "execution_count": 14,
      "outputs": [
        {
          "output_type": "stream",
          "name": "stdout",
          "text": [
            "                         book_name                                                                                                                                                                                                                                                                  summaries    categories\n",
            "        The Picture of Dorian Gray                                                            tells the story of a young, beautiful man who trades his soul for eternal youth, then descends further and further into a moral abyss — until he discovers there is, after all, a price to pay for his actions. relationships\n",
            "                   Brave New World                                                                                               presents a futuristic society engineered perfectly around capitalism and scientific efficiency, in which everyone is happy, conform, and content — but only at first glance.       science\n",
            "                        Wonderland                                      shows you that much of societal and technological progress actually originates from people playing and just following their curiosity, as it takes you on a tour of history’s greatest dabblers and how they helped build the future.    technology\n",
            "          The Sovereign Individual  jumps into the future and presents a new world where life moves into the online environment, where the cybereconomy rules and governments are struggling to control the people like they used to, all through a revolution more powerful than anything we’ve seen before.       science\n",
            "Brief Answers To The Big Questions                                                                                                                                        tackles some of the universe’s biggest mysteries, as Hawking explores the laws that govern the cosmos and the future of humankind.        science\n"
          ]
        }
      ]
    },
    {
      "cell_type": "code",
      "source": [
        "import numpy as np\n",
        "from sklearn.metrics.pairwise import cosine_similarity\n",
        "\n",
        "# 유사한 책 검색 함수 (동일한 장르만 추천)\n",
        "def search_similar_books(book_title, top_n=5):\n",
        "    try:\n",
        "        # 입력값 존재 여부 확인\n",
        "        if book_title not in df['book_name'].values:\n",
        "            print(f\"'{book_title}' 제목의 책을 찾을 수 없습니다.\")\n",
        "            return None\n",
        "\n",
        "        # 입력된 책의 장르 확인\n",
        "        book_info = df.loc[df['book_name'] == book_title, ['book_name', 'summaries', 'categories']].iloc[0]\n",
        "        book_genre = book_info['categories']\n",
        "\n",
        "        print(\"입력한 책 정보\")\n",
        "        print(f\"제목: {book_info['book_name']}\")\n",
        "        print(f\"줄거리: {book_info['summaries']}\")\n",
        "        print(f\"장르: {book_genre}\\n\")\n",
        "\n",
        "        # 동일한 장르의 책만 필터링\n",
        "        genre_filtered_df = df[df['categories'] == book_genre]\n",
        "\n",
        "        # 입력된 책 제목과 일치하는 책의 임베딩 불러오기\n",
        "        query_embedding = np.array(df.loc[df['book_name'] == book_title, 'embedding'].values[0])\n",
        "\n",
        "        # 필터링된 책 임베딩 불러오기 (numpy 배열로 변환)\n",
        "        book_embeddings = np.array(genre_filtered_df['embedding'].tolist())\n",
        "\n",
        "        # 코사인 유사도 계산\n",
        "        similarities = cosine_similarity([query_embedding], book_embeddings)[0]\n",
        "\n",
        "        # 유사도가 높은 Top N 도서 인덱스 추출 (자기 자신 제외)\n",
        "        top_indices = similarities.argsort()[-(top_n + 1):][::-1]\n",
        "        top_indices = [idx for idx in top_indices if genre_filtered_df.iloc[idx]['book_name'] != book_title][:top_n]\n",
        "\n",
        "        # 추천 결과 반환 (책 제목, 줄거리, 카테고리)\n",
        "        return genre_filtered_df.iloc[top_indices][['book_name', 'summaries', 'categories']]\n",
        "\n",
        "    except Exception as e:\n",
        "        print(f\"유사도 계산 중 오류 발생: {e}\")\n",
        "        return None\n"
      ],
      "metadata": {
        "id": "0fBs553huavX"
      },
      "execution_count": 17,
      "outputs": []
    },
    {
      "cell_type": "code",
      "source": [
        "\n",
        "# 예시 실행\n",
        "book_title_input = input(\"추천을 원하는 책 제목을 입력하세요: \")\n",
        "recommended_books = search_similar_books(book_title_input, top_n=5)\n",
        "\n",
        "# 결과 확인\n",
        "if recommended_books is not None:\n",
        "    print(recommended_books)\n"
      ],
      "metadata": {
        "colab": {
          "base_uri": "https://localhost:8080/"
        },
        "id": "WArQi-gouf2w",
        "outputId": "971ca8c3-5ac7-49bc-91f4-7a5adaeec81c"
      },
      "execution_count": 18,
      "outputs": [
        {
          "output_type": "stream",
          "name": "stdout",
          "text": [
            "추천을 원하는 책 제목을 입력하세요: 1984\n",
            "입력한 책 정보\n",
            "제목: 1984\n",
            "줄거리:  is the story of a man questioning the system that keeps his futuristic but dystopian society afloat and the chaos that quickly ensues once he gives in to his natural curiosity and desire to be free.\n",
            "장르: science\n",
            "\n",
            "                              book_name  \\\n",
            "3                       Brave New World   \n",
            "27             The Sovereign Individual   \n",
            "103  Brief Answers To The Big Questions   \n",
            "95                     Doubt: A History   \n",
            "83                    The Order Of Time   \n",
            "\n",
            "                                             summaries categories  \n",
            "3     presents a futuristic society engineered perf...    science  \n",
            "27    jumps into the future and presents a new worl...    science  \n",
            "103   tackles some of the universe’s biggest myster...    science  \n",
            "95    is a fascinating look at the historical influ...    science  \n",
            "83    expands your mind by shattering your commonly...    science  \n"
          ]
        }
      ]
    }
  ],
  "metadata": {
    "kernelspec": {
      "display_name": "myenv",
      "language": "python",
      "name": "python3"
    },
    "language_info": {
      "codemirror_mode": {
        "name": "ipython",
        "version": 3
      },
      "file_extension": ".py",
      "mimetype": "text/x-python",
      "name": "python",
      "nbconvert_exporter": "python",
      "pygments_lexer": "ipython3",
      "version": "3.12.4"
    },
    "colab": {
      "provenance": []
    }
  },
  "nbformat": 4,
  "nbformat_minor": 0
}