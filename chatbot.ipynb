{
 "cells": [
  {
   "cell_type": "code",
   "execution_count": 1,
   "metadata": {},
   "outputs": [],
   "source": [
    "import pandas as pd"
   ]
  },
  {
   "cell_type": "code",
   "execution_count": 2,
   "metadata": {},
   "outputs": [],
   "source": [
    "\n",
    "df = pd.read_csv('data/books_summary.csv')"
   ]
  },
  {
   "cell_type": "code",
   "execution_count": 3,
   "metadata": {},
   "outputs": [
    {
     "data": {
      "text/html": [
       "<div>\n",
       "<style scoped>\n",
       "    .dataframe tbody tr th:only-of-type {\n",
       "        vertical-align: middle;\n",
       "    }\n",
       "\n",
       "    .dataframe tbody tr th {\n",
       "        vertical-align: top;\n",
       "    }\n",
       "\n",
       "    .dataframe thead th {\n",
       "        text-align: right;\n",
       "    }\n",
       "</style>\n",
       "<table border=\"1\" class=\"dataframe\">\n",
       "  <thead>\n",
       "    <tr style=\"text-align: right;\">\n",
       "      <th></th>\n",
       "      <th>Unnamed: 0</th>\n",
       "      <th>book_name</th>\n",
       "      <th>summaries</th>\n",
       "      <th>categories</th>\n",
       "    </tr>\n",
       "  </thead>\n",
       "  <tbody>\n",
       "    <tr>\n",
       "      <th>0</th>\n",
       "      <td>0</td>\n",
       "      <td>The Highly Sensitive Person</td>\n",
       "      <td>is a self-assessment guide and how-to-live te...</td>\n",
       "      <td>science</td>\n",
       "    </tr>\n",
       "    <tr>\n",
       "      <th>1</th>\n",
       "      <td>1</td>\n",
       "      <td>Why Has Nobody Told Me This Before?</td>\n",
       "      <td>is a collection of a clinical psychologist’s ...</td>\n",
       "      <td>science</td>\n",
       "    </tr>\n",
       "    <tr>\n",
       "      <th>2</th>\n",
       "      <td>2</td>\n",
       "      <td>The Midnight Library</td>\n",
       "      <td>tells the story of Nora, a depressed woman in...</td>\n",
       "      <td>science</td>\n",
       "    </tr>\n",
       "    <tr>\n",
       "      <th>3</th>\n",
       "      <td>3</td>\n",
       "      <td>Brave New World</td>\n",
       "      <td>presents a futuristic society engineered perf...</td>\n",
       "      <td>science</td>\n",
       "    </tr>\n",
       "    <tr>\n",
       "      <th>4</th>\n",
       "      <td>4</td>\n",
       "      <td>1984</td>\n",
       "      <td>is the story of a man questioning the system ...</td>\n",
       "      <td>science</td>\n",
       "    </tr>\n",
       "  </tbody>\n",
       "</table>\n",
       "</div>"
      ],
      "text/plain": [
       "   Unnamed: 0                            book_name  \\\n",
       "0           0          The Highly Sensitive Person   \n",
       "1           1  Why Has Nobody Told Me This Before?   \n",
       "2           2                 The Midnight Library   \n",
       "3           3                      Brave New World   \n",
       "4           4                                 1984   \n",
       "\n",
       "                                           summaries categories  \n",
       "0   is a self-assessment guide and how-to-live te...    science  \n",
       "1   is a collection of a clinical psychologist’s ...    science  \n",
       "2   tells the story of Nora, a depressed woman in...    science  \n",
       "3   presents a futuristic society engineered perf...    science  \n",
       "4   is the story of a man questioning the system ...    science  "
      ]
     },
     "execution_count": 3,
     "metadata": {},
     "output_type": "execute_result"
    }
   ],
   "source": [
    "df.head()"
   ]
  },
  {
   "cell_type": "code",
   "execution_count": 4,
   "metadata": {},
   "outputs": [],
   "source": [
    "import os\n",
    "from openai import OpenAI\n",
    "from dotenv import load_dotenv\n",
    "client = OpenAI()\n",
    "# 🔑 환경 변수 로드\n",
    "load_dotenv()\n",
    "OPENAI_API_KEY = os.getenv(\"OPENAI_API_KEY\")"
   ]
  },
  {
   "cell_type": "code",
   "execution_count": 5,
   "metadata": {},
   "outputs": [],
   "source": [
    "def embed_text(text):\n",
    "    response = client.embeddings.create(\n",
    "        model=\"text-embedding-ada-002\",  # 임베딩 모델\n",
    "        input=text\n",
    "    )\n",
    "    return response.data[0].embedding"
   ]
  },
  {
   "cell_type": "code",
   "execution_count": 6,
   "metadata": {},
   "outputs": [
    {
     "name": "stdout",
     "output_type": "stream",
     "text": [
      "Requirement already satisfied: tqdm in c:\\users\\byung mu kang\\book-chatbot\\myenv\\lib\\site-packages (4.67.1)\n",
      "Requirement already satisfied: colorama in c:\\users\\byung mu kang\\book-chatbot\\myenv\\lib\\site-packages (from tqdm) (0.4.6)\n"
     ]
    },
    {
     "name": "stderr",
     "output_type": "stream",
     "text": [
      "\n",
      "[notice] A new release of pip is available: 24.0 -> 24.3.1\n",
      "[notice] To update, run: python.exe -m pip install --upgrade pip\n"
     ]
    }
   ],
   "source": [
    "!pip install tqdm"
   ]
  },
  {
   "cell_type": "code",
   "execution_count": 7,
   "metadata": {},
   "outputs": [
    {
     "name": "stderr",
     "output_type": "stream",
     "text": [
      "임베딩 진행 중:  16%|█▌        | 823/5201 [12:18<1:04:16,  1.14it/s]"
     ]
    },
    {
     "name": "stdout",
     "output_type": "stream",
     "text": [
      "임베딩 실패: Out of range float values are not JSON compliant: nan\n"
     ]
    },
    {
     "name": "stderr",
     "output_type": "stream",
     "text": [
      "임베딩 진행 중:  24%|██▎       | 1230/5201 [18:23<57:31,  1.15it/s]  "
     ]
    },
    {
     "name": "stdout",
     "output_type": "stream",
     "text": [
      "임베딩 실패: Out of range float values are not JSON compliant: nan\n"
     ]
    },
    {
     "name": "stderr",
     "output_type": "stream",
     "text": [
      "임베딩 진행 중:  36%|███▌      | 1854/5201 [27:33<48:27,  1.15it/s]  "
     ]
    },
    {
     "name": "stdout",
     "output_type": "stream",
     "text": [
      "임베딩 실패: Out of range float values are not JSON compliant: nan\n"
     ]
    },
    {
     "name": "stderr",
     "output_type": "stream",
     "text": [
      "임베딩 진행 중:  47%|████▋     | 2433/5201 [36:15<37:20,  1.24it/s]  "
     ]
    },
    {
     "name": "stdout",
     "output_type": "stream",
     "text": [
      "임베딩 실패: Out of range float values are not JSON compliant: nan\n"
     ]
    },
    {
     "name": "stderr",
     "output_type": "stream",
     "text": [
      "임베딩 진행 중:  66%|██████▌   | 3424/5201 [51:05<25:30,  1.16it/s]  "
     ]
    },
    {
     "name": "stdout",
     "output_type": "stream",
     "text": [
      "임베딩 실패: Out of range float values are not JSON compliant: nan\n"
     ]
    },
    {
     "name": "stderr",
     "output_type": "stream",
     "text": [
      "임베딩 진행 중:  93%|█████████▎| 4828/5201 [1:12:17<05:23,  1.15it/s]"
     ]
    },
    {
     "name": "stdout",
     "output_type": "stream",
     "text": [
      "임베딩 실패: Out of range float values are not JSON compliant: nan\n"
     ]
    },
    {
     "name": "stderr",
     "output_type": "stream",
     "text": [
      "임베딩 진행 중: 100%|█████████▉| 5188/5201 [1:17:40<00:11,  1.11it/s]"
     ]
    },
    {
     "name": "stdout",
     "output_type": "stream",
     "text": [
      "임베딩 실패: Out of range float values are not JSON compliant: nan\n"
     ]
    },
    {
     "name": "stderr",
     "output_type": "stream",
     "text": [
      "임베딩 진행 중: 100%|██████████| 5201/5201 [1:17:50<00:00,  1.11it/s]\n"
     ]
    }
   ],
   "source": [
    "import time\n",
    "from tqdm import tqdm  # 진행률 표시 라이브러리\n",
    "\n",
    "# 줄거리를 임베딩하고 새로운 컬럼에 저장\n",
    "def embed_summaries(df):\n",
    "    embeddings = []\n",
    "    \n",
    "    # tqdm을 사용하여 진행 상황 표시\n",
    "    for summary in tqdm(df['summaries'], desc=\"임베딩 진행 중\"):\n",
    "        try:\n",
    "            embedding = embed_text(summary)\n",
    "            embeddings.append(embedding)\n",
    "            time.sleep(0.5)  # OpenAI API 과부하 방지\n",
    "        except Exception as e:\n",
    "            print(f\"임베딩 실패: {e}\")\n",
    "            embeddings.append(None)\n",
    "    \n",
    "    df['embedding'] = embeddings\n",
    "    return df\n",
    "\n",
    "# 실행\n",
    "df = embed_summaries(df)\n"
   ]
  },
  {
   "cell_type": "code",
   "execution_count": 8,
   "metadata": {},
   "outputs": [
    {
     "data": {
      "text/html": [
       "<div>\n",
       "<style scoped>\n",
       "    .dataframe tbody tr th:only-of-type {\n",
       "        vertical-align: middle;\n",
       "    }\n",
       "\n",
       "    .dataframe tbody tr th {\n",
       "        vertical-align: top;\n",
       "    }\n",
       "\n",
       "    .dataframe thead th {\n",
       "        text-align: right;\n",
       "    }\n",
       "</style>\n",
       "<table border=\"1\" class=\"dataframe\">\n",
       "  <thead>\n",
       "    <tr style=\"text-align: right;\">\n",
       "      <th></th>\n",
       "      <th>Unnamed: 0</th>\n",
       "      <th>book_name</th>\n",
       "      <th>summaries</th>\n",
       "      <th>categories</th>\n",
       "      <th>embedding</th>\n",
       "    </tr>\n",
       "  </thead>\n",
       "  <tbody>\n",
       "    <tr>\n",
       "      <th>0</th>\n",
       "      <td>0</td>\n",
       "      <td>The Highly Sensitive Person</td>\n",
       "      <td>is a self-assessment guide and how-to-live te...</td>\n",
       "      <td>science</td>\n",
       "      <td>[-0.027592381462454796, 0.02508273534476757, 0...</td>\n",
       "    </tr>\n",
       "    <tr>\n",
       "      <th>1</th>\n",
       "      <td>1</td>\n",
       "      <td>Why Has Nobody Told Me This Before?</td>\n",
       "      <td>is a collection of a clinical psychologist’s ...</td>\n",
       "      <td>science</td>\n",
       "      <td>[-0.010329793207347393, 0.0206208024173975, 0....</td>\n",
       "    </tr>\n",
       "    <tr>\n",
       "      <th>2</th>\n",
       "      <td>2</td>\n",
       "      <td>The Midnight Library</td>\n",
       "      <td>tells the story of Nora, a depressed woman in...</td>\n",
       "      <td>science</td>\n",
       "      <td>[-0.01274832896888256, -0.017568137496709824, ...</td>\n",
       "    </tr>\n",
       "    <tr>\n",
       "      <th>3</th>\n",
       "      <td>3</td>\n",
       "      <td>Brave New World</td>\n",
       "      <td>presents a futuristic society engineered perf...</td>\n",
       "      <td>science</td>\n",
       "      <td>[-0.00034115940798074007, -0.00196639355272054...</td>\n",
       "    </tr>\n",
       "    <tr>\n",
       "      <th>4</th>\n",
       "      <td>4</td>\n",
       "      <td>1984</td>\n",
       "      <td>is the story of a man questioning the system ...</td>\n",
       "      <td>science</td>\n",
       "      <td>[0.015045898035168648, -0.02341669239103794, -...</td>\n",
       "    </tr>\n",
       "  </tbody>\n",
       "</table>\n",
       "</div>"
      ],
      "text/plain": [
       "   Unnamed: 0                            book_name  \\\n",
       "0           0          The Highly Sensitive Person   \n",
       "1           1  Why Has Nobody Told Me This Before?   \n",
       "2           2                 The Midnight Library   \n",
       "3           3                      Brave New World   \n",
       "4           4                                 1984   \n",
       "\n",
       "                                           summaries categories  \\\n",
       "0   is a self-assessment guide and how-to-live te...    science   \n",
       "1   is a collection of a clinical psychologist’s ...    science   \n",
       "2   tells the story of Nora, a depressed woman in...    science   \n",
       "3   presents a futuristic society engineered perf...    science   \n",
       "4   is the story of a man questioning the system ...    science   \n",
       "\n",
       "                                           embedding  \n",
       "0  [-0.027592381462454796, 0.02508273534476757, 0...  \n",
       "1  [-0.010329793207347393, 0.0206208024173975, 0....  \n",
       "2  [-0.01274832896888256, -0.017568137496709824, ...  \n",
       "3  [-0.00034115940798074007, -0.00196639355272054...  \n",
       "4  [0.015045898035168648, -0.02341669239103794, -...  "
      ]
     },
     "execution_count": 8,
     "metadata": {},
     "output_type": "execute_result"
    }
   ],
   "source": [
    "df.head()"
   ]
  },
  {
   "cell_type": "code",
   "execution_count": 9,
   "metadata": {},
   "outputs": [
    {
     "name": "stdout",
     "output_type": "stream",
     "text": [
      "임베딩 결과가 'embeddings.pkl' 파일에 저장되었습니다.\n"
     ]
    }
   ],
   "source": [
    "#  결과 저장 (중복 실행 방지)\n",
    "import pickle\n",
    "with open('embeddings.pkl', 'wb') as f:\n",
    "    pickle.dump(df, f)\n",
    "print(\"임베딩 결과가 'embeddings.pkl' 파일에 저장되었습니다.\")"
   ]
  },
  {
   "cell_type": "code",
   "execution_count": 10,
   "metadata": {},
   "outputs": [],
   "source": [
    "#  CSV 저장 (외부 프로그램과 공유 가능)\n",
    "df.to_csv('embeddings.csv', index=False)"
   ]
  },
  {
   "cell_type": "code",
   "execution_count": 16,
   "metadata": {},
   "outputs": [
    {
     "name": "stdout",
     "output_type": "stream",
     "text": [
      "결측치(NaN 또는 None) 임베딩 개수: 7\n",
      "리스트 형태가 아닌 임베딩 개수: 7\n",
      "1536차원이 아닌 임베딩 개수: 0\n"
     ]
    }
   ],
   "source": [
    "import numpy as np\n",
    "import pandas as pd\n",
    "\n",
    "#  결측치(NaN 또는 None) 확인\n",
    "missing_embeddings = df['embedding'].isnull().sum()\n",
    "print(f\"결측치(NaN 또는 None) 임베딩 개수: {missing_embeddings}\")\n",
    "\n",
    "#  임베딩 값이 올바른지(리스트인지) 확인\n",
    "invalid_embeddings = df['embedding'].apply(lambda x: not isinstance(x, list)).sum()\n",
    "print(f\"리스트 형태가 아닌 임베딩 개수: {invalid_embeddings}\")\n",
    "\n",
    "#  임베딩 벡터 길이(차원) 검사 (예: 1536차원)\n",
    "incorrect_dim_embeddings = df['embedding'].apply(lambda x: isinstance(x, list) and len(x) != 1536).sum()\n",
    "print(f\"1536차원이 아닌 임베딩 개수: {incorrect_dim_embeddings}\")\n"
   ]
  },
  {
   "cell_type": "code",
   "execution_count": 17,
   "metadata": {},
   "outputs": [
    {
     "name": "stdout",
     "output_type": "stream",
     "text": [
      "결측치(NaN 또는 None) 데이터:\n",
      "      Unnamed: 0                     book_name summaries     categories  \\\n",
      "823          829  The Power Of Full Engagement       NaN  relationships   \n",
      "1230        1240  The Power Of Full Engagement       NaN      happiness   \n",
      "1854        1869  The Power Of Full Engagement       NaN   productivity   \n",
      "2433        2450  The Power Of Full Engagement       NaN     psychology   \n",
      "3424        3449  The Power Of Full Engagement       NaN         health   \n",
      "4828        4868  The Power Of Full Engagement       NaN           work   \n",
      "5188        5232  The Power Of Full Engagement       NaN    mindfulness   \n",
      "\n",
      "     embedding  \n",
      "823       None  \n",
      "1230      None  \n",
      "1854      None  \n",
      "2433      None  \n",
      "3424      None  \n",
      "4828      None  \n",
      "5188      None  \n",
      "리스트 형태가 아닌 데이터:\n",
      "      Unnamed: 0                     book_name summaries     categories  \\\n",
      "823          829  The Power Of Full Engagement       NaN  relationships   \n",
      "1230        1240  The Power Of Full Engagement       NaN      happiness   \n",
      "1854        1869  The Power Of Full Engagement       NaN   productivity   \n",
      "2433        2450  The Power Of Full Engagement       NaN     psychology   \n",
      "3424        3449  The Power Of Full Engagement       NaN         health   \n",
      "4828        4868  The Power Of Full Engagement       NaN           work   \n",
      "5188        5232  The Power Of Full Engagement       NaN    mindfulness   \n",
      "\n",
      "     embedding  \n",
      "823       None  \n",
      "1230      None  \n",
      "1854      None  \n",
      "2433      None  \n",
      "3424      None  \n",
      "4828      None  \n",
      "5188      None  \n"
     ]
    }
   ],
   "source": [
    "#  결측치(NaN 또는 None)인 데이터 출력\n",
    "print(\"결측치(NaN 또는 None) 데이터:\")\n",
    "print(df[df['embedding'].isnull()])\n",
    "\n",
    "#  리스트 형태가 아닌 데이터 출력\n",
    "print(\"리스트 형태가 아닌 데이터:\")\n",
    "print(df[df['embedding'].apply(lambda x: not isinstance(x, list))])\n"
   ]
  },
  {
   "cell_type": "code",
   "execution_count": 1,
   "metadata": {},
   "outputs": [
    {
     "name": "stdout",
     "output_type": "stream",
     "text": [
      "   Unnamed: 0                            book_name  \\\n",
      "0           0          The Highly Sensitive Person   \n",
      "1           1  Why Has Nobody Told Me This Before?   \n",
      "2           2                 The Midnight Library   \n",
      "3           3                      Brave New World   \n",
      "4           4                                 1984   \n",
      "\n",
      "                                           summaries categories  \\\n",
      "0   is a self-assessment guide and how-to-live te...    science   \n",
      "1   is a collection of a clinical psychologist’s ...    science   \n",
      "2   tells the story of Nora, a depressed woman in...    science   \n",
      "3   presents a futuristic society engineered perf...    science   \n",
      "4   is the story of a man questioning the system ...    science   \n",
      "\n",
      "                                           embedding  \n",
      "0  [-0.027592381462454796, 0.02508273534476757, 0...  \n",
      "1  [-0.010329793207347393, 0.0206208024173975, 0....  \n",
      "2  [-0.01274832896888256, -0.017568137496709824, ...  \n",
      "3  [-0.00034115940798074007, -0.00196639355272054...  \n",
      "4  [0.015045898035168648, -0.02341669239103794, -...  \n"
     ]
    }
   ],
   "source": [
    "import pickle\n",
    "\n",
    "# pkl 파일 불러오기\n",
    "with open('embeddings.pkl', 'rb') as f:\n",
    "    df = pickle.load(f)\n",
    "\n",
    "# 데이터 확인\n",
    "print(df.head())\n"
   ]
  },
  {
   "cell_type": "code",
   "execution_count": 2,
   "metadata": {},
   "outputs": [
    {
     "name": "stdout",
     "output_type": "stream",
     "text": [
      "모든 임베딩이 리스트 형태인가요? False\n"
     ]
    }
   ],
   "source": [
    "# 임베딩이 리스트인지 확인\n",
    "is_list = df['embedding'].apply(lambda x: isinstance(x, list)).all()\n",
    "print(f\"모든 임베딩이 리스트 형태인가요? {is_list}\")\n"
   ]
  },
  {
   "cell_type": "code",
   "execution_count": 4,
   "metadata": {},
   "outputs": [
    {
     "name": "stdout",
     "output_type": "stream",
     "text": [
      "모든 임베딩이 리스트 형태인가요? False\n"
     ]
    }
   ],
   "source": [
    "import ast\n",
    "\n",
    "# 문자열로 저장된 임베딩을 리스트로 변환\n",
    "df['embedding'] = df['embedding'].apply(lambda x: ast.literal_eval(x) if isinstance(x, str) else x)\n",
    "\n",
    "# 변환 후 확인\n",
    "is_list = df['embedding'].apply(lambda x: isinstance(x, list)).all()\n",
    "print(f\"모든 임베딩이 리스트 형태인가요? {is_list}\")\n"
   ]
  },
  {
   "cell_type": "code",
   "execution_count": 3,
   "metadata": {},
   "outputs": [
    {
     "name": "stdout",
     "output_type": "stream",
     "text": [
      "남은 데이터 개수: 5194\n"
     ]
    }
   ],
   "source": [
    "# summaries 컬럼에서 결측치(NaN 또는 None) 제거\n",
    "df = df[df['summaries'].notnull()]\n",
    "\n",
    "# embedding 컬럼에서도 결측치(NaN 또는 None) 제거\n",
    "df = df[df['embedding'].notnull()]\n",
    "\n",
    "# 결과 확인\n",
    "print(f\"남은 데이터 개수: {len(df)}\")\n"
   ]
  },
  {
   "cell_type": "code",
   "execution_count": 4,
   "metadata": {},
   "outputs": [
    {
     "name": "stdout",
     "output_type": "stream",
     "text": [
      "모든 임베딩이 리스트 형태인가요? True\n"
     ]
    }
   ],
   "source": [
    "# 임베딩이 리스트인지 확인\n",
    "is_list = df['embedding'].apply(lambda x: isinstance(x, list)).all()\n",
    "print(f\"모든 임베딩이 리스트 형태인가요? {is_list}\")\n"
   ]
  },
  {
   "cell_type": "code",
   "execution_count": 5,
   "metadata": {},
   "outputs": [
    {
     "name": "stdout",
     "output_type": "stream",
     "text": [
      "모든 임베딩 벡터가 1536 차원인가요? True\n"
     ]
    }
   ],
   "source": [
    "# 임베딩 벡터의 길이 확인\n",
    "embedding_dim_check = df['embedding'].apply(lambda x: len(x) == 1536 if isinstance(x, list) else False).all()\n",
    "print(f\"모든 임베딩 벡터가 1536 차원인가요? {embedding_dim_check}\")\n"
   ]
  },
  {
   "cell_type": "code",
   "execution_count": 11,
   "metadata": {},
   "outputs": [],
   "source": [
    "import numpy as np\n",
    "from sklearn.metrics.pairwise import cosine_similarity\n",
    "# 유사한 책 검색 함수\n",
    "def search_similar_books(book_title, top_n=5):\n",
    "    try:\n",
    "        # 입력한 책 제목의 임베딩 확인\n",
    "        embedding_check = df.loc[df['book_name'] == book_title_input, 'embedding']\n",
    "        print(f\"임베딩 확인: {embedding_check}\")\n",
    "        # 입력된 책 제목과 일치하는 책의 임베딩 불러오기\n",
    "        query_embedding = df.loc[df['book_name'] == book_title, 'embedding'].values[0]\n",
    "\n",
    "        # 책 임베딩 불러오기 (이미 저장된 임베딩 사용)\n",
    "        book_embeddings = np.array(df['embedding'].tolist())\n",
    "\n",
    "        # 코사인 유사도 계산\n",
    "        similarities = cosine_similarity([query_embedding], book_embeddings)[0]\n",
    "\n",
    "        # 유사도가 높은 Top N 도서 인덱스 추출 (자기 자신 제외)\n",
    "        top_indices = similarities.argsort()[-(top_n + 1):][::-1]  # 자기 자신 제외를 위해 +1\n",
    "        top_indices = [idx for idx in top_indices if df.iloc[idx]['book_name'] != book_title][:top_n]\n",
    "\n",
    "        # 추천 결과 반환 (책 제목, 줄거리, 카테고리)\n",
    "        return df.iloc[top_indices][['book_name', 'summaries', 'categories']]\n",
    "\n",
    "    except IndexError:\n",
    "        print(f\"'{book_title}' 제목의 책을 찾을 수 없습니다.\")\n",
    "        return None\n",
    "    except Exception as e:\n",
    "        print(f\"유사도 계산 중 오류 발생: {e}\")\n",
    "        return None"
   ]
  },
  {
   "cell_type": "code",
   "execution_count": 12,
   "metadata": {},
   "outputs": [
    {
     "name": "stdout",
     "output_type": "stream",
     "text": [
      "Empty DataFrame\n",
      "Columns: [book_name, summaries, categories]\n",
      "Index: []\n"
     ]
    }
   ],
   "source": [
    "\n",
    "# 예시 실행\n",
    "book_title_input = input(\"추천을 원하는 책 제목을 입력하세요: \")\n",
    "recommended_books = search_similar_books(book_title_input, top_n=5)\n",
    "\n",
    "# 결과 확인\n",
    "if recommended_books is not None:\n",
    "    print(recommended_books)\n"
   ]
  }
 ],
 "metadata": {
  "kernelspec": {
   "display_name": "myenv",
   "language": "python",
   "name": "python3"
  },
  "language_info": {
   "codemirror_mode": {
    "name": "ipython",
    "version": 3
   },
   "file_extension": ".py",
   "mimetype": "text/x-python",
   "name": "python",
   "nbconvert_exporter": "python",
   "pygments_lexer": "ipython3",
   "version": "3.12.4"
  }
 },
 "nbformat": 4,
 "nbformat_minor": 2
}
