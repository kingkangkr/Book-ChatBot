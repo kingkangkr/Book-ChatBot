{
 "cells": [
  {
   "cell_type": "code",
   "execution_count": null,
   "metadata": {},
   "outputs": [],
   "source": []
  },
  {
   "cell_type": "code",
   "execution_count": 1,
   "metadata": {},
   "outputs": [],
   "source": [
    "import pandas as pd"
   ]
  },
  {
   "cell_type": "code",
   "execution_count": 2,
   "metadata": {},
   "outputs": [],
   "source": [
    "dt = pd.read_csv('data/filtered_booksummaries.csv')"
   ]
  },
  {
   "cell_type": "code",
   "execution_count": 8,
   "metadata": {},
   "outputs": [],
   "source": [
    "from openai import OpenAI\n",
    "import os\n",
    "\n",
    "# OpenAI API 키 로드\n",
    "openai_client = OpenAI(api_key=os.getenv(\"OPENAI_API_KEY\"))\n",
    "\n",
    "# LLM을 이용하여 가장 유사한 책 제목 찾기\n",
    "def correct_book_title(user_input):\n",
    "    book_titles = dt['Book title'].tolist()  # 데이터셋의 모든 책 제목 리스트\n",
    "\n",
    "    # 프롬프트 생성\n",
    "    prompt = (\n",
    "        f\"사용자가 '{user_input}'이라는 책 제목을 입력했으나, 이 제목은 데이터에 존재하지 않습니다.\\n\"\n",
    "        f\"사용자가 원래 입력하려고 했던 가장 유사한 책 제목을 하나 찾아 반환해 주세요. \"\n",
    "        f\"단, 철자가 약간 틀린 경우에만 수정하고, 전혀 다른 제목으로 변경하지 마세요. \"\n",
    "        f\"정확한 일치가 없으면 'NO_MATCH'를 반환하세요.\"\n",
    "    )\n",
    "\n",
    "    try:\n",
    "        response = openai_client.chat.completions.create(\n",
    "            model=\"gpt-4o-mini\",  # 사용할 모델\n",
    "            messages=[{\"role\": \"user\", \"content\": prompt}]\n",
    "        )\n",
    "        corrected_title = response.choices[0].message.content.strip()\n",
    "        \n",
    "        return corrected_title if corrected_title != \"NO_MATCH\" else None\n",
    "    except Exception as e:\n",
    "        print(f\"Error in title correction: {e}\")\n",
    "        return None\n"
   ]
  },
  {
   "cell_type": "code",
   "execution_count": 9,
   "metadata": {},
   "outputs": [
    {
     "name": "stdout",
     "output_type": "stream",
     "text": [
      "Did you mean '사용자가 입력한 책 제목 'animar farm'은 'Animal Farm'과 유사한 제목입니다. 따라서 수정된 제목은 'Animal Farm'입니다.'?\n"
     ]
    }
   ],
   "source": [
    "user_input = \"animar farm\"  # 철자가 틀린 입력값\n",
    "corrected_title = correct_book_title(user_input)\n",
    "\n",
    "if corrected_title:\n",
    "    print(f\"Did you mean '{corrected_title}'?\")\n",
    "else:\n",
    "    print(f\"No similar book found for '{user_input}'.\")\n"
   ]
  },
  {
   "cell_type": "code",
   "execution_count": 10,
   "metadata": {},
   "outputs": [
    {
     "name": "stdout",
     "output_type": "stream",
     "text": [
      "Did you mean ''1983'이라는 제목은 데이터에 존재하지 않으므로, 유사한 책 제목이 없습니다. 따라서 결과는 'NO_MATCH'입니다.'?\n"
     ]
    }
   ],
   "source": [
    "user_input = \"1983\"  # 철자가 틀린 입력값\n",
    "corrected_title = correct_book_title(user_input)\n",
    "\n",
    "if corrected_title:\n",
    "    print(f\"Did you mean '{corrected_title}'?\")\n",
    "else:\n",
    "    print(f\"No similar book found for '{user_input}'.\")\n"
   ]
  },
  {
   "cell_type": "code",
   "execution_count": 11,
   "metadata": {},
   "outputs": [
    {
     "name": "stdout",
     "output_type": "stream",
     "text": [
      "Did you mean '\"Brave New World\"가 사용자가 입력하려고 했던 제목일 것으로 추정됩니다.'?\n"
     ]
    }
   ],
   "source": [
    "user_input = \"Brove new world\"  # 철자가 틀린 입력값\n",
    "corrected_title = correct_book_title(user_input)\n",
    "\n",
    "if corrected_title:\n",
    "    print(f\"Did you mean '{corrected_title}'?\")\n",
    "else:\n",
    "    print(f\"No similar book found for '{user_input}'.\")\n"
   ]
  },
  {
   "cell_type": "code",
   "execution_count": null,
   "metadata": {},
   "outputs": [],
   "source": []
  }
 ],
 "metadata": {
  "kernelspec": {
   "display_name": "myenv",
   "language": "python",
   "name": "python3"
  },
  "language_info": {
   "codemirror_mode": {
    "name": "ipython",
    "version": 3
   },
   "file_extension": ".py",
   "mimetype": "text/x-python",
   "name": "python",
   "nbconvert_exporter": "python",
   "pygments_lexer": "ipython3",
   "version": "3.12.4"
  }
 },
 "nbformat": 4,
 "nbformat_minor": 2
}
