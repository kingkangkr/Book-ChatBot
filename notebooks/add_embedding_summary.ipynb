{
 "cells": [
  {
   "cell_type": "code",
   "execution_count": 4,
   "metadata": {},
   "outputs": [],
   "source": [
    "import pandas as pd"
   ]
  },
  {
   "cell_type": "code",
   "execution_count": 5,
   "metadata": {},
   "outputs": [],
   "source": [
    "dt = pd.read_csv('data/parsed_genres_with_embeddings.csv')"
   ]
  },
  {
   "cell_type": "code",
   "execution_count": 6,
   "metadata": {},
   "outputs": [
    {
     "data": {
      "text/plain": [
       "(12839, 10)"
      ]
     },
     "execution_count": 6,
     "metadata": {},
     "output_type": "execute_result"
    }
   ],
   "source": [
    "dt.shape"
   ]
  },
  {
   "cell_type": "code",
   "execution_count": 10,
   "metadata": {},
   "outputs": [],
   "source": [
    "import os\n",
    "import pandas as pd\n",
    "from openai import OpenAI\n",
    "from dotenv import load_dotenv\n",
    "from tqdm import tqdm\n",
    "import time\n",
    "\n",
    "# 환경 변수 로드 및 OpenAI 클라이언트 설정\n",
    "load_dotenv()\n",
    "OPENAI_API_KEY = os.getenv(\"OPENAI_API_KEY\")\n",
    "client = OpenAI(api_key=OPENAI_API_KEY)\n",
    "\n",
    "# 진행률 표시 설정\n",
    "tqdm.pandas()\n",
    "\n",
    "# 텍스트 임베딩 함수\n",
    "def embed_text(text):\n",
    "    response = client.embeddings.create(\n",
    "        model=\"text-embedding-3-large\",  # 임베딩 모델\n",
    "        input=text\n",
    "    )\n",
    "    return response.data[0].embedding\n",
    "\n",
    "\n"
   ]
  },
  {
   "cell_type": "code",
   "execution_count": 11,
   "metadata": {},
   "outputs": [],
   "source": [
    "# 임베딩 적용 함수\n",
    "def apply_embedding(text):\n",
    "    if pd.notnull(text) and text.strip() != \"\":\n",
    "        return embed_text(text)\n",
    "    return None\n",
    "\n"
   ]
  },
  {
   "cell_type": "code",
   "execution_count": 15,
   "metadata": {},
   "outputs": [
    {
     "name": "stdout",
     "output_type": "stream",
     "text": [
      "\n",
      "Processing rows 0 ~ 12839...\n"
     ]
    },
    {
     "name": "stderr",
     "output_type": "stream",
     "text": [
      "  0%|          | 0/12839 [00:00<?, ?it/s]"
     ]
    },
    {
     "name": "stderr",
     "output_type": "stream",
     "text": [
      "100%|██████████| 12839/12839 [2:10:01<00:00,  1.65it/s]  \n"
     ]
    },
    {
     "name": "stdout",
     "output_type": "stream",
     "text": [
      "임베딩 완료! 파일 저장 경로: data/booksummaries_embeddings_0_12839.csv\n"
     ]
    }
   ],
   "source": [
    "# 처리 범위 설정\n",
    "start_idx = 0     # 시작 인덱스 (수동 입력)\n",
    "end_idx = len(dt)    # 끝 인덱스 (수동 입력)\n",
    "\n",
    "\n",
    "\n",
    "# 데이터프레임 슬라이싱 (범위에 맞게 분할)\n",
    "dt_chunk = dt.iloc[start_idx:end_idx].copy()\n",
    "\n",
    "print(f\"\\nProcessing rows {start_idx} ~ {end_idx}...\")\n",
    "\n",
    "# Summarized Plot Summary 컬럼에 임베딩 추가\n",
    "dt_chunk['Summarized Plot Embedding'] = dt_chunk['Summarized Plot Summary'].progress_apply(apply_embedding)\n",
    "# 결과 저장\n",
    "save_path = f'data/booksummaries_embeddings_{start_idx}_{end_idx}.csv'\n",
    "dt_chunk.to_csv(save_path, index=False, encoding='utf-8')\n",
    "print(f\"임베딩 완료! 파일 저장 경로: {save_path}\")\n"
   ]
  },
  {
   "cell_type": "code",
   "execution_count": null,
   "metadata": {},
   "outputs": [],
   "source": []
  }
 ],
 "metadata": {
  "kernelspec": {
   "display_name": "myenv",
   "language": "python",
   "name": "python3"
  },
  "language_info": {
   "codemirror_mode": {
    "name": "ipython",
    "version": 3
   },
   "file_extension": ".py",
   "mimetype": "text/x-python",
   "name": "python",
   "nbconvert_exporter": "python",
   "pygments_lexer": "ipython3",
   "version": "3.12.4"
  }
 },
 "nbformat": 4,
 "nbformat_minor": 2
}
