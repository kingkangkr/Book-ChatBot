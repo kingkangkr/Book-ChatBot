{
 "cells": [
  {
   "cell_type": "code",
   "execution_count": 1,
   "metadata": {},
   "outputs": [],
   "source": [
    "import pandas as pd"
   ]
  },
  {
   "cell_type": "code",
   "execution_count": 2,
   "metadata": {},
   "outputs": [],
   "source": [
    "dt = pd.read_csv('data/booksummaries_embeddings_0_12839.csv')"
   ]
  },
  {
   "cell_type": "code",
   "execution_count": 3,
   "metadata": {},
   "outputs": [
    {
     "data": {
      "text/html": [
       "<div>\n",
       "<style scoped>\n",
       "    .dataframe tbody tr th:only-of-type {\n",
       "        vertical-align: middle;\n",
       "    }\n",
       "\n",
       "    .dataframe tbody tr th {\n",
       "        vertical-align: top;\n",
       "    }\n",
       "\n",
       "    .dataframe thead th {\n",
       "        text-align: right;\n",
       "    }\n",
       "</style>\n",
       "<table border=\"1\" class=\"dataframe\">\n",
       "  <thead>\n",
       "    <tr style=\"text-align: right;\">\n",
       "      <th></th>\n",
       "      <th>Wikipedia article ID</th>\n",
       "      <th>Freebase ID</th>\n",
       "      <th>Book title</th>\n",
       "      <th>Author</th>\n",
       "      <th>Publication date</th>\n",
       "      <th>Book genres (Freebase ID:name tuples)</th>\n",
       "      <th>Plot summary</th>\n",
       "      <th>Summarized Plot Summary</th>\n",
       "      <th>Parsed Genres</th>\n",
       "      <th>Parsed Genres Embedding</th>\n",
       "      <th>Summarized Plot Embedding</th>\n",
       "    </tr>\n",
       "  </thead>\n",
       "  <tbody>\n",
       "    <tr>\n",
       "      <th>0</th>\n",
       "      <td>620</td>\n",
       "      <td>/m/0hhy</td>\n",
       "      <td>Animal Farm</td>\n",
       "      <td>George Orwell</td>\n",
       "      <td>1945-08-17</td>\n",
       "      <td>{\"/m/016lj8\": \"Roman \\u00e0 clef\", \"/m/06nbt\":...</td>\n",
       "      <td>Old Major, the old boar on the Manor Farm, ca...</td>\n",
       "      <td>Old Major, an old boar, inspires a farm animal...</td>\n",
       "      <td>Roman à clef, Satire, Children's literature, S...</td>\n",
       "      <td>[-0.0268506221473217, 0.01663643680512905, -0....</td>\n",
       "      <td>[-0.03497184067964554, -0.01884828694164753, -...</td>\n",
       "    </tr>\n",
       "    <tr>\n",
       "      <th>1</th>\n",
       "      <td>843</td>\n",
       "      <td>/m/0k36</td>\n",
       "      <td>A Clockwork Orange</td>\n",
       "      <td>Anthony Burgess</td>\n",
       "      <td>1962</td>\n",
       "      <td>{\"/m/06n90\": \"Science Fiction\", \"/m/0l67h\": \"N...</td>\n",
       "      <td>Alex, a teenager living in near-future Englan...</td>\n",
       "      <td>In a near-future England, teenager Alex leads ...</td>\n",
       "      <td>Science Fiction, Novella, Speculative fiction,...</td>\n",
       "      <td>[-0.022291284054517746, 0.01301165483891964, -...</td>\n",
       "      <td>[-0.007798242848366499, 0.022935163229703903, ...</td>\n",
       "    </tr>\n",
       "    <tr>\n",
       "      <th>2</th>\n",
       "      <td>986</td>\n",
       "      <td>/m/0ldx</td>\n",
       "      <td>The Plague</td>\n",
       "      <td>Albert Camus</td>\n",
       "      <td>1947</td>\n",
       "      <td>{\"/m/02m4t\": \"Existentialism\", \"/m/02xlf\": \"Fi...</td>\n",
       "      <td>The text of The Plague is divided into five p...</td>\n",
       "      <td>In Oran, a plague begins with rats dying in th...</td>\n",
       "      <td>Existentialism, Fiction, Absurdist fiction, Novel</td>\n",
       "      <td>[-0.006543333642184734, 0.014447270892560482, ...</td>\n",
       "      <td>[-0.030361512675881386, -0.01121631357818842, ...</td>\n",
       "    </tr>\n",
       "    <tr>\n",
       "      <th>3</th>\n",
       "      <td>2080</td>\n",
       "      <td>/m/0wkt</td>\n",
       "      <td>A Fire Upon the Deep</td>\n",
       "      <td>Vernor Vinge</td>\n",
       "      <td>NaN</td>\n",
       "      <td>{\"/m/03lrw\": \"Hard science fiction\", \"/m/06n90...</td>\n",
       "      <td>The novel posits that space around the Milky ...</td>\n",
       "      <td>The novel explores a galaxy divided into Zones...</td>\n",
       "      <td>Hard science fiction, Science Fiction, Specula...</td>\n",
       "      <td>[-0.008878524415194988, 0.024636436253786087, ...</td>\n",
       "      <td>[-0.027841700240969658, -0.06042584404349327, ...</td>\n",
       "    </tr>\n",
       "    <tr>\n",
       "      <th>4</th>\n",
       "      <td>2152</td>\n",
       "      <td>/m/0x5g</td>\n",
       "      <td>All Quiet on the Western Front</td>\n",
       "      <td>Erich Maria Remarque</td>\n",
       "      <td>1929-01-29</td>\n",
       "      <td>{\"/m/098tmk\": \"War novel\", \"/m/016lj8\": \"Roman...</td>\n",
       "      <td>The book tells the story of Paul Bäumer, a Ge...</td>\n",
       "      <td>Paul Bäumer, a young German soldier in WWI, jo...</td>\n",
       "      <td>War novel, Roman à clef</td>\n",
       "      <td>[-0.03799491003155708, -0.03112509287893772, -...</td>\n",
       "      <td>[-0.02093232050538063, 0.009090326726436615, -...</td>\n",
       "    </tr>\n",
       "  </tbody>\n",
       "</table>\n",
       "</div>"
      ],
      "text/plain": [
       "   Wikipedia article ID Freebase ID                      Book title  \\\n",
       "0                   620     /m/0hhy                     Animal Farm   \n",
       "1                   843     /m/0k36              A Clockwork Orange   \n",
       "2                   986     /m/0ldx                      The Plague   \n",
       "3                  2080     /m/0wkt            A Fire Upon the Deep   \n",
       "4                  2152     /m/0x5g  All Quiet on the Western Front   \n",
       "\n",
       "                 Author Publication date  \\\n",
       "0         George Orwell       1945-08-17   \n",
       "1       Anthony Burgess             1962   \n",
       "2          Albert Camus             1947   \n",
       "3          Vernor Vinge              NaN   \n",
       "4  Erich Maria Remarque       1929-01-29   \n",
       "\n",
       "               Book genres (Freebase ID:name tuples)  \\\n",
       "0  {\"/m/016lj8\": \"Roman \\u00e0 clef\", \"/m/06nbt\":...   \n",
       "1  {\"/m/06n90\": \"Science Fiction\", \"/m/0l67h\": \"N...   \n",
       "2  {\"/m/02m4t\": \"Existentialism\", \"/m/02xlf\": \"Fi...   \n",
       "3  {\"/m/03lrw\": \"Hard science fiction\", \"/m/06n90...   \n",
       "4  {\"/m/098tmk\": \"War novel\", \"/m/016lj8\": \"Roman...   \n",
       "\n",
       "                                        Plot summary  \\\n",
       "0   Old Major, the old boar on the Manor Farm, ca...   \n",
       "1   Alex, a teenager living in near-future Englan...   \n",
       "2   The text of The Plague is divided into five p...   \n",
       "3   The novel posits that space around the Milky ...   \n",
       "4   The book tells the story of Paul Bäumer, a Ge...   \n",
       "\n",
       "                             Summarized Plot Summary  \\\n",
       "0  Old Major, an old boar, inspires a farm animal...   \n",
       "1  In a near-future England, teenager Alex leads ...   \n",
       "2  In Oran, a plague begins with rats dying in th...   \n",
       "3  The novel explores a galaxy divided into Zones...   \n",
       "4  Paul Bäumer, a young German soldier in WWI, jo...   \n",
       "\n",
       "                                       Parsed Genres  \\\n",
       "0  Roman à clef, Satire, Children's literature, S...   \n",
       "1  Science Fiction, Novella, Speculative fiction,...   \n",
       "2  Existentialism, Fiction, Absurdist fiction, Novel   \n",
       "3  Hard science fiction, Science Fiction, Specula...   \n",
       "4                            War novel, Roman à clef   \n",
       "\n",
       "                             Parsed Genres Embedding  \\\n",
       "0  [-0.0268506221473217, 0.01663643680512905, -0....   \n",
       "1  [-0.022291284054517746, 0.01301165483891964, -...   \n",
       "2  [-0.006543333642184734, 0.014447270892560482, ...   \n",
       "3  [-0.008878524415194988, 0.024636436253786087, ...   \n",
       "4  [-0.03799491003155708, -0.03112509287893772, -...   \n",
       "\n",
       "                           Summarized Plot Embedding  \n",
       "0  [-0.03497184067964554, -0.01884828694164753, -...  \n",
       "1  [-0.007798242848366499, 0.022935163229703903, ...  \n",
       "2  [-0.030361512675881386, -0.01121631357818842, ...  \n",
       "3  [-0.027841700240969658, -0.06042584404349327, ...  \n",
       "4  [-0.02093232050538063, 0.009090326726436615, -...  "
      ]
     },
     "execution_count": 3,
     "metadata": {},
     "output_type": "execute_result"
    }
   ],
   "source": [
    "dt.head()"
   ]
  },
  {
   "cell_type": "code",
   "execution_count": 16,
   "metadata": {},
   "outputs": [],
   "source": [
    "from scipy.spatial.distance import cosine\n",
    "import numpy as np\n",
    "# 코사인 유사도를 계산하여 가장 비슷한 책 3권 추천 함수\n",
    "def recommend_books(book_title, top_n=3):\n",
    "    # 선택한 책의 데이터 가져오기\n",
    "    selected_books = dt[dt['Book title'] == book_title]\n",
    "    \n",
    "    if selected_books.empty:  # 책 제목이 없는 경우 처리\n",
    "        print(f\"Error: Book title '{book_title}' not found in the dataset.\")\n",
    "        return []\n",
    "\n",
    "    selected_book = selected_books.iloc[0]\n",
    "\n",
    "    # 선택한 책의 장르 임베딩 추출\n",
    "    selected_embedding = eval(selected_book['Parsed Genres Embedding'])\n",
    "\n",
    "    # 코사인 유사도를 저장할 리스트\n",
    "    similarities = []\n",
    "\n",
    "    for _, row in dt.iterrows():\n",
    "        if row['Book title'] != book_title:  # 자기 자신은 제외\n",
    "            other_embedding = eval(row['Parsed Genres Embedding'])\n",
    "            similarity = 1 - cosine(selected_embedding, other_embedding)  # 코사인 유사도 계산\n",
    "            similarities.append((row['Book title'], similarity))\n",
    "\n",
    "    # 유사도를 기준으로 정렬하여 상위 n개 선택\n",
    "    top_books = sorted(similarities, key=lambda x: x[1], reverse=True)[:top_n]\n",
    "\n",
    "    # 추천 결과 반환\n",
    "    return top_books\n"
   ]
  },
  {
   "cell_type": "code",
   "execution_count": 17,
   "metadata": {},
   "outputs": [
    {
     "name": "stdout",
     "output_type": "stream",
     "text": [
      "Books similar to 'Animal Farm':\n",
      "The Sun Also Rises (Similarity: 0.8792)\n",
      "The Great Indian Novel (Similarity: 0.8519)\n",
      "The Bell Jar (Similarity: 0.8174)\n"
     ]
    }
   ],
   "source": [
    "# 예제: 'Animal Farm'과 가장 비슷한 책 3권 추천\n",
    "book_title = 'Animal Farm'\n",
    "recommendations = recommend_books(book_title)\n",
    "\n",
    "print(f\"Books similar to '{book_title}':\")\n",
    "for title, similarity in recommendations:\n",
    "    print(f\"{title} (Similarity: {similarity:.4f})\")\n"
   ]
  },
  {
   "cell_type": "markdown",
   "metadata": {},
   "source": [
    " 동물 농장의 주요 장르\n",
    "\"Animal Farm\"은 주로 아래 장르를 포함합니다:\n",
    "\n",
    "풍자 (Satire)\n",
    "정치적 우화 (Political allegory)\n",
    "디스토피아 (Dystopia)\n",
    "The Sun Also Rises:\n",
    "장르: 전후 세대 (Post-War), 실존주의 (Existentialism), 현대 소설 (Modernism).\n",
    "The Great Indian Novel:\n",
    "장르: 풍자, 역사적 우화.\n",
    "The Bell Jar:\n",
    "장르: 현대 소설, 자전적 소설, 심리 드라마.\n"
   ]
  },
  {
   "cell_type": "code",
   "execution_count": 25,
   "metadata": {},
   "outputs": [
    {
     "name": "stdout",
     "output_type": "stream",
     "text": [
      "    Wikipedia article ID Freebase ID       Book title         Author  \\\n",
      "79                 36681    /m/0952p  Brave New World  Aldous Huxley   \n",
      "\n",
      "   Publication date              Book genres (Freebase ID:name tuples)  \\\n",
      "79              NaN  {\"/m/06n90\": \"Science Fiction\", \"/m/0dwly\": \"C...   \n",
      "\n",
      "                                         Plot summary  \\\n",
      "79   The novel opens in London in 632 (AD 2540 in ...   \n",
      "\n",
      "                              Summarized Plot Summary  \\\n",
      "79  In a dystopian future, the World State control...   \n",
      "\n",
      "                                        Parsed Genres  \\\n",
      "79  Science Fiction, Children's literature, Specul...   \n",
      "\n",
      "                              Parsed Genres Embedding  \\\n",
      "79  [-0.013131619431078434, 0.025082388892769814, ...   \n",
      "\n",
      "                            Summarized Plot Embedding  \n",
      "79  [0.004377966281026602, -0.035789597779512405, ...  \n"
     ]
    }
   ],
   "source": [
    "# '1984'과 유사한 제목 확인 (부분 문자열 검색)\n",
    "similar_titles = dt[dt['Book title'].str.contains('brave new world', case=False, na=False)]\n",
    "print(similar_titles)"
   ]
  },
  {
   "cell_type": "code",
   "execution_count": 26,
   "metadata": {},
   "outputs": [
    {
     "name": "stdout",
     "output_type": "stream",
     "text": [
      "Books similar to 'Brave New World':\n",
      "Fahrenheit 451 (Similarity: 1.0000)\n",
      "Gathering Blue (Similarity: 0.9826)\n",
      "The Guardians (Similarity: 0.9656)\n"
     ]
    }
   ],
   "source": [
    "# 예제: 'Brave New World'과 가장 비슷한 책 3권 추천\n",
    "book_title = 'Brave New World'\n",
    "recommendations = recommend_books(book_title)\n",
    "\n",
    "print(f\"Books similar to '{book_title}':\")\n",
    "for title, similarity in recommendations:\n",
    "    print(f\"{title} (Similarity: {similarity:.4f})\")\n"
   ]
  },
  {
   "cell_type": "markdown",
   "metadata": {},
   "source": [
    "Brave New World의 주요 장르와 맥락\n",
    "장르: 디스토피아(Dystopia), 과학 소설(Science Fiction), 사회 풍자(Social Satire)\n",
    "Fahrenheit 451:\n",
    "\n",
    "장르: 디스토피아, 과학 소설.\n",
    "주제: 지식과 표현의 자유를 억압하는 사회에서의 저항과 자유의 의미.\n",
    "\n",
    "Gathering Blue:\n",
    "\n",
    "장르: 디스토피아, 청소년 소설(Young Adult Fiction).\n",
    "주제: 불완전한 사회에서 예술과 창의성의 역할.\n",
    "\n",
    "The Guardians:\n",
    "\n",
    "장르: 디스토피아, 정치 스릴러(Political Thriller).\n",
    "주제: 권위주의적 통제와 개인 자유의 갈등.\n"
   ]
  },
  {
   "cell_type": "code",
   "execution_count": 27,
   "metadata": {},
   "outputs": [],
   "source": [
    "# 코사인 유사도를 계산하여 가장 비슷한 책 3권 추천 함수 (줄거리 임베딩 기반)\n",
    "def recommend_books_by_plot(book_title, top_n=3):\n",
    "    # 선택한 책의 데이터 가져오기\n",
    "    selected_books = dt[dt['Book title'] == book_title]\n",
    "    \n",
    "    if selected_books.empty:  # 책 제목이 없는 경우 처리\n",
    "        print(f\"Error: Book title '{book_title}' not found in the dataset.\")\n",
    "        return []\n",
    "\n",
    "    selected_book = selected_books.iloc[0]\n",
    "\n",
    "    # 선택한 책의 줄거리 임베딩 추출\n",
    "    selected_embedding = eval(selected_book['Summarized Plot Embedding'])\n",
    "\n",
    "    # 코사인 유사도를 저장할 리스트\n",
    "    similarities = []\n",
    "\n",
    "    for _, row in dt.iterrows():\n",
    "        if row['Book title'] != book_title:  # 자기 자신은 제외\n",
    "            other_embedding = eval(row['Summarized Plot Embedding'])\n",
    "            similarity = 1 - cosine(selected_embedding, other_embedding)  # 코사인 유사도 계산\n",
    "            similarities.append((row['Book title'], similarity))\n",
    "\n",
    "    # 유사도를 기준으로 정렬하여 상위 n개 선택\n",
    "    top_books = sorted(similarities, key=lambda x: x[1], reverse=True)[:top_n]\n",
    "\n",
    "    # 추천 결과 반환\n",
    "    return top_books"
   ]
  },
  {
   "cell_type": "code",
   "execution_count": 28,
   "metadata": {},
   "outputs": [
    {
     "name": "stdout",
     "output_type": "stream",
     "text": [
      "Books similar to 'Brave New World':\n",
      "We (Similarity: 0.6200)\n",
      "Anthem (Similarity: 0.6124)\n",
      "Nineteen Eighty-Four (Similarity: 0.6012)\n"
     ]
    }
   ],
   "source": [
    "# 예제: 'Brave New World'과 가장 비슷한 책 3권 추천 (줄거리 기반)\n",
    "book_title = 'Brave New World'\n",
    "recommendations = recommend_books_by_plot(book_title)\n",
    "\n",
    "print(f\"Books similar to '{book_title}':\")\n",
    "for title, similarity in recommendations:\n",
    "    print(f\"{title} (Similarity: {similarity:.4f})\")"
   ]
  },
  {
   "cell_type": "markdown",
   "metadata": {},
   "source": [
    "We:\n",
    "\n",
    "장르: 디스토피아, 정치적 풍자.\n",
    "주제: 전체주의 사회에서 개인의 자유와 감정의 억압.\n",
    "유사점: 권위주의적 사회와 통제된 개인의 삶을 묘사하며, \"Brave New World\"의 철학적 기조와 유사.\n",
    "평가: 매우 적합한 추천.\n",
    "Anthem:\n",
    "\n",
    "장르: 디스토피아, 철학적 소설.\n",
    "주제: 개인주의와 자유의 가치를 전체주의 사회에서 탐구.\n",
    "유사점: 전체주의와 자유의 갈등, 개인의 자아 발견이라는 테마가 \"Brave New World\"와 유사.\n",
    "평가: 적합한 추천.\n",
    "Nineteen Eighty-Four:\n",
    "\n",
    "장르: 디스토피아, 정치 소설.\n",
    "주제: 권위주의 정권에 의해 통제되는 개인의 삶과 자유.\n",
    "유사점: 디스토피아적 세계관과 사회 통제라는 큰 틀이 \"Brave New World\"와 일치.\n",
    "평가: 적합한 추천."
   ]
  }
 ],
 "metadata": {
  "kernelspec": {
   "display_name": "myenv",
   "language": "python",
   "name": "python3"
  },
  "language_info": {
   "codemirror_mode": {
    "name": "ipython",
    "version": 3
   },
   "file_extension": ".py",
   "mimetype": "text/x-python",
   "name": "python",
   "nbconvert_exporter": "python",
   "pygments_lexer": "ipython3",
   "version": "3.12.4"
  }
 },
 "nbformat": 4,
 "nbformat_minor": 2
}
