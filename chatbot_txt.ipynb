{
 "cells": [
  {
   "cell_type": "code",
   "execution_count": 7,
   "metadata": {},
   "outputs": [],
   "source": [
    "import pandas as pd\n",
    "column_names = [\n",
    "    'Wikipedia article ID',\n",
    "    'Freebase ID',\n",
    "    'Book title',\n",
    "    'Author',\n",
    "    'Publication date',\n",
    "    'Book genres (Freebase ID:name tuples)',\n",
    "    'Plot summary'\n",
    "]\n",
    "df = pd.read_csv('data/booksummaries.txt', delimiter = '\\t', names = column_names, header = None)\n"
   ]
  },
  {
   "cell_type": "code",
   "execution_count": 8,
   "metadata": {},
   "outputs": [
    {
     "data": {
      "text/html": [
       "<div>\n",
       "<style scoped>\n",
       "    .dataframe tbody tr th:only-of-type {\n",
       "        vertical-align: middle;\n",
       "    }\n",
       "\n",
       "    .dataframe tbody tr th {\n",
       "        vertical-align: top;\n",
       "    }\n",
       "\n",
       "    .dataframe thead th {\n",
       "        text-align: right;\n",
       "    }\n",
       "</style>\n",
       "<table border=\"1\" class=\"dataframe\">\n",
       "  <thead>\n",
       "    <tr style=\"text-align: right;\">\n",
       "      <th></th>\n",
       "      <th>Wikipedia article ID</th>\n",
       "      <th>Freebase ID</th>\n",
       "      <th>Book title</th>\n",
       "      <th>Author</th>\n",
       "      <th>Publication date</th>\n",
       "      <th>Book genres (Freebase ID:name tuples)</th>\n",
       "      <th>Plot summary</th>\n",
       "    </tr>\n",
       "  </thead>\n",
       "  <tbody>\n",
       "    <tr>\n",
       "      <th>0</th>\n",
       "      <td>620</td>\n",
       "      <td>/m/0hhy</td>\n",
       "      <td>Animal Farm</td>\n",
       "      <td>George Orwell</td>\n",
       "      <td>1945-08-17</td>\n",
       "      <td>{\"/m/016lj8\": \"Roman \\u00e0 clef\", \"/m/06nbt\":...</td>\n",
       "      <td>Old Major, the old boar on the Manor Farm, ca...</td>\n",
       "    </tr>\n",
       "    <tr>\n",
       "      <th>1</th>\n",
       "      <td>843</td>\n",
       "      <td>/m/0k36</td>\n",
       "      <td>A Clockwork Orange</td>\n",
       "      <td>Anthony Burgess</td>\n",
       "      <td>1962</td>\n",
       "      <td>{\"/m/06n90\": \"Science Fiction\", \"/m/0l67h\": \"N...</td>\n",
       "      <td>Alex, a teenager living in near-future Englan...</td>\n",
       "    </tr>\n",
       "    <tr>\n",
       "      <th>2</th>\n",
       "      <td>986</td>\n",
       "      <td>/m/0ldx</td>\n",
       "      <td>The Plague</td>\n",
       "      <td>Albert Camus</td>\n",
       "      <td>1947</td>\n",
       "      <td>{\"/m/02m4t\": \"Existentialism\", \"/m/02xlf\": \"Fi...</td>\n",
       "      <td>The text of The Plague is divided into five p...</td>\n",
       "    </tr>\n",
       "    <tr>\n",
       "      <th>3</th>\n",
       "      <td>1756</td>\n",
       "      <td>/m/0sww</td>\n",
       "      <td>An Enquiry Concerning Human Understanding</td>\n",
       "      <td>David Hume</td>\n",
       "      <td>NaN</td>\n",
       "      <td>NaN</td>\n",
       "      <td>The argument of the Enquiry proceeds by a ser...</td>\n",
       "    </tr>\n",
       "    <tr>\n",
       "      <th>4</th>\n",
       "      <td>2080</td>\n",
       "      <td>/m/0wkt</td>\n",
       "      <td>A Fire Upon the Deep</td>\n",
       "      <td>Vernor Vinge</td>\n",
       "      <td>NaN</td>\n",
       "      <td>{\"/m/03lrw\": \"Hard science fiction\", \"/m/06n90...</td>\n",
       "      <td>The novel posits that space around the Milky ...</td>\n",
       "    </tr>\n",
       "  </tbody>\n",
       "</table>\n",
       "</div>"
      ],
      "text/plain": [
       "   Wikipedia article ID Freebase ID  \\\n",
       "0                   620     /m/0hhy   \n",
       "1                   843     /m/0k36   \n",
       "2                   986     /m/0ldx   \n",
       "3                  1756     /m/0sww   \n",
       "4                  2080     /m/0wkt   \n",
       "\n",
       "                                  Book title           Author  \\\n",
       "0                                Animal Farm    George Orwell   \n",
       "1                         A Clockwork Orange  Anthony Burgess   \n",
       "2                                 The Plague     Albert Camus   \n",
       "3  An Enquiry Concerning Human Understanding       David Hume   \n",
       "4                       A Fire Upon the Deep     Vernor Vinge   \n",
       "\n",
       "  Publication date              Book genres (Freebase ID:name tuples)  \\\n",
       "0       1945-08-17  {\"/m/016lj8\": \"Roman \\u00e0 clef\", \"/m/06nbt\":...   \n",
       "1             1962  {\"/m/06n90\": \"Science Fiction\", \"/m/0l67h\": \"N...   \n",
       "2             1947  {\"/m/02m4t\": \"Existentialism\", \"/m/02xlf\": \"Fi...   \n",
       "3              NaN                                                NaN   \n",
       "4              NaN  {\"/m/03lrw\": \"Hard science fiction\", \"/m/06n90...   \n",
       "\n",
       "                                        Plot summary  \n",
       "0   Old Major, the old boar on the Manor Farm, ca...  \n",
       "1   Alex, a teenager living in near-future Englan...  \n",
       "2   The text of The Plague is divided into five p...  \n",
       "3   The argument of the Enquiry proceeds by a ser...  \n",
       "4   The novel posits that space around the Milky ...  "
      ]
     },
     "execution_count": 8,
     "metadata": {},
     "output_type": "execute_result"
    }
   ],
   "source": [
    "df.head()"
   ]
  },
  {
   "cell_type": "code",
   "execution_count": 9,
   "metadata": {},
   "outputs": [],
   "source": [
    "# import os\n",
    "# import pandas as pd\n",
    "# from openai import OpenAI\n",
    "# from dotenv import load_dotenv\n",
    "# from tqdm import tqdm\n",
    "# import time\n",
    "\n",
    "# # 환경 변수 로드 및 OpenAI 클라이언트 설정\n",
    "# load_dotenv()\n",
    "# OPENAI_API_KEY = os.getenv(\"OPENAI_API_KEY\")\n",
    "# client = OpenAI(api_key=OPENAI_API_KEY)\n",
    "# # 진행률 표시 설정\n",
    "# tqdm.pandas()\n",
    "\n",
    "# # 요약 함수 (OpenAI 최신 방식 적용)\n",
    "# def summarize_text(text, max_tokens=500):\n",
    "#     prompt = f\"Summarize the following book plot in less than 500 characters:\\n\\n{text}\"\n",
    "#     try:\n",
    "#         response = client.chat.completions.create(\n",
    "#             model=\"gpt-4o\",\n",
    "#             messages=[\n",
    "#                 {\"role\": \"system\", \"content\": \"You are a helpful assistant.\"},\n",
    "#                 {\"role\": \"user\", \"content\": prompt}\n",
    "#             ],\n",
    "#             max_tokens=max_tokens,\n",
    "#             temperature=0.5  # 출력의 다양성 조절\n",
    "#         )\n",
    "#         answer = response.choices[0].message.content.strip()\n",
    "#         return answer\n",
    "#     except Exception as e:\n",
    "#         print(f\"Error: {e}\")\n",
    "#         return None\n",
    "\n",
    "# # 요약 적용 함수 (결측치 제외)\n",
    "# def apply_summarization(text):\n",
    "#     if pd.notnull(text) and text.strip() != \"\":\n",
    "#         return summarize_text(text)\n",
    "#     return \"\"\n",
    "\n",
    "# df_sample = df.head(10)\n",
    "\n",
    "# # 요약 컬럼 추가 (진행률 표시)\n",
    "# df_sample['Summarized Plot Summary'] = df_sample['Plot summary'].progress_apply(apply_summarization)\n",
    "\n",
    "# # 결과 확인\n",
    "# print(df_sample[['Book title', 'Summarized Plot Summary']].head())"
   ]
  },
  {
   "cell_type": "code",
   "execution_count": 10,
   "metadata": {},
   "outputs": [],
   "source": [
    "# df_sample[['Book title', 'Summarized Plot Summary']].to_csv(\"summarized_plots.csv\", index=False, encoding='utf-8-sig')\n",
    "# print(\"결과가 summarized_plots.csv 파일로 저장되었습니다.\")\n"
   ]
  },
  {
   "cell_type": "code",
   "execution_count": 11,
   "metadata": {},
   "outputs": [
    {
     "data": {
      "text/plain": [
       "(16559, 7)"
      ]
     },
     "execution_count": 11,
     "metadata": {},
     "output_type": "execute_result"
    }
   ],
   "source": [
    "df.shape"
   ]
  },
  {
   "cell_type": "code",
   "execution_count": 12,
   "metadata": {},
   "outputs": [
    {
     "name": "stdout",
     "output_type": "stream",
     "text": [
      "before (16559, 7)\n",
      "                       Book title  \\\n",
      "0                     Animal Farm   \n",
      "1              A Clockwork Orange   \n",
      "2                      The Plague   \n",
      "4            A Fire Upon the Deep   \n",
      "5  All Quiet on the Western Front   \n",
      "\n",
      "                                        Plot summary  \\\n",
      "0   Old Major, the old boar on the Manor Farm, ca...   \n",
      "1   Alex, a teenager living in near-future Englan...   \n",
      "2   The text of The Plague is divided into five p...   \n",
      "4   The novel posits that space around the Milky ...   \n",
      "5   The book tells the story of Paul Bäumer, a Ge...   \n",
      "\n",
      "               Book genres (Freebase ID:name tuples)  \n",
      "0  {\"/m/016lj8\": \"Roman \\u00e0 clef\", \"/m/06nbt\":...  \n",
      "1  {\"/m/06n90\": \"Science Fiction\", \"/m/0l67h\": \"N...  \n",
      "2  {\"/m/02m4t\": \"Existentialism\", \"/m/02xlf\": \"Fi...  \n",
      "4  {\"/m/03lrw\": \"Hard science fiction\", \"/m/06n90...  \n",
      "5  {\"/m/098tmk\": \"War novel\", \"/m/016lj8\": \"Roman...  \n",
      "전처리 후 데이터 크기: (12841, 7)\n"
     ]
    }
   ],
   "source": [
    "# Plot summary와 Book genres 컬럼에서 결측치(NaN) 또는 빈 값(\"\")인 행 삭제\n",
    "df_cleaned = df.dropna(subset=['Plot summary', 'Book genres (Freebase ID:name tuples)'])\n",
    "\n",
    "# 추가로 공백(\"\")인 경우도 제거\n",
    "df_cleaned = df_cleaned[\n",
    "    (df_cleaned['Plot summary'].str.strip() != '') &\n",
    "    (df_cleaned['Book genres (Freebase ID:name tuples)'].str.strip() != '')\n",
    "]\n",
    "print(f\"before {df.shape}\")\n",
    "# 결과 확인\n",
    "print(df_cleaned[['Book title', 'Plot summary', 'Book genres (Freebase ID:name tuples)']].head())\n",
    "print(f\"전처리 후 데이터 크기: {df_cleaned.shape}\")\n"
   ]
  },
  {
   "cell_type": "code",
   "execution_count": 13,
   "metadata": {},
   "outputs": [
    {
     "name": "stdout",
     "output_type": "stream",
     "text": [
      "                       Book title                Author\n",
      "0                     Animal Farm         George Orwell\n",
      "1              A Clockwork Orange       Anthony Burgess\n",
      "2                      The Plague          Albert Camus\n",
      "4            A Fire Upon the Deep          Vernor Vinge\n",
      "5  All Quiet on the Western Front  Erich Maria Remarque\n",
      "중복 제거 후 데이터 크기: (12637, 7)\n"
     ]
    }
   ],
   "source": [
    "# Book title 컬럼에서 중복 제거\n",
    "df_cleaned = df_cleaned.drop_duplicates(subset='Book title', keep='first')\n",
    "\n",
    "# 결과 확인\n",
    "print(df_cleaned[['Book title', 'Author']].head())\n",
    "print(f\"중복 제거 후 데이터 크기: {df_cleaned.shape}\")\n"
   ]
  },
  {
   "cell_type": "code",
   "execution_count": 14,
   "metadata": {},
   "outputs": [],
   "source": [
    "# import os\n",
    "# import pandas as pd\n",
    "# from openai import OpenAI\n",
    "# from dotenv import load_dotenv\n",
    "# from tqdm import tqdm\n",
    "# import time\n",
    "\n",
    "# #  환경 변수 로드 및 OpenAI 클라이언트 설정\n",
    "# load_dotenv()\n",
    "# OPENAI_API_KEY = os.getenv(\"OPENAI_API_KEY\")\n",
    "# client = OpenAI(api_key = OPENAI_API_KEY)\n",
    "# # 진행률 표시 설정\n",
    "# tqdm.pandas()\n",
    "\n",
    "# # 요약 함수\n",
    "# def summarize_text(text, max_tokens=500):\n",
    "#     prompt = f\"Summarize the following book plot in less than 500 characters:\\n\\n{text}\"\n",
    "#     try:\n",
    "#         response = client.chat.completions.create(\n",
    "#             model=\"gpt-4o\",\n",
    "#             messages=[\n",
    "#                 {\"role\": \"system\", \"content\": \"You are a helpful assistant.\"},\n",
    "#                 {\"role\": \"user\", \"content\": prompt}\n",
    "#             ],\n",
    "#             max_tokens=max_tokens,\n",
    "#             temperature=0.5\n",
    "#         )\n",
    "#         answer = response.choices[0].message.content.strip()\n",
    "#         return answer\n",
    "#     except Exception as e:\n",
    "#         print(f\"Error: {e}\")\n",
    "#         return None\n",
    "\n",
    "# # 요약 적용 함수\n",
    "# def apply_summarization(text):\n",
    "#     if pd.notnull(text) and text.strip() != \"\":\n",
    "#         return summarize_text(text)\n",
    "#     return \"\"\n",
    "\n",
    "# #  처리 범위 설정\n",
    "# start_idx = 0     # 시작 인덱스 (수동 입력)\n",
    "# end_idx = 3000    # 끝 인덱스 (수동 입력)\n",
    "\n",
    "# #  데이터프레임 슬라이싱 (범위에 맞게 분할)\n",
    "# df_chunk = df.iloc[start_idx:end_idx].copy()\n",
    "\n",
    "# print(f\"\\n Processing {start_idx} ~ {end_idx} rows...\")\n",
    "\n",
    "# #  요약 컬럼 추가\n",
    "# df_chunk['Summarized Plot Summary'] = df_chunk['Plot summary'].progress_apply(apply_summarization)\n",
    "\n",
    "# #  결과 저장\n",
    "# save_path = f'/data/booksummaries_summarized_{start_idx}_{end_idx}.csv'\n",
    "# df_chunk.to_csv(save_path, index=False)\n",
    "# print(f\" 요약 완료! 파일 저장 경로: {save_path}\")\n"
   ]
  },
  {
   "cell_type": "code",
   "execution_count": 15,
   "metadata": {},
   "outputs": [],
   "source": [
    "# #  결과 저장\n",
    "# save_path = f'data/booksummaries_summarized_{start_idx}_{end_idx}.csv'\n",
    "# df_chunk.to_csv(save_path, index=False)\n",
    "# print(f\" 요약 완료! 파일 저장 경로: {save_path}\")"
   ]
  },
  {
   "cell_type": "code",
   "execution_count": 16,
   "metadata": {},
   "outputs": [],
   "source": [
    "# # 요약본의 평균 글자수를 계산\n",
    "# average_length = df_chunk['Summarized Plot Summary'].apply(len).mean()\n",
    "# average_length"
   ]
  },
  {
   "cell_type": "code",
   "execution_count": 17,
   "metadata": {},
   "outputs": [
    {
     "name": "stdout",
     "output_type": "stream",
     "text": [
      "\n",
      " Processing 3001 ~ 9000 rows...\n"
     ]
    },
    {
     "name": "stderr",
     "output_type": "stream",
     "text": [
      "100%|██████████| 5999/5999 [4:51:23<00:00,  2.91s/it]   \n"
     ]
    },
    {
     "name": "stdout",
     "output_type": "stream",
     "text": [
      " 요약 완료! 파일 저장 경로: data/booksummaries_summarized_3001_9000.csv\n"
     ]
    }
   ],
   "source": [
    "import os\n",
    "import pandas as pd\n",
    "from openai import OpenAI\n",
    "from dotenv import load_dotenv\n",
    "from tqdm import tqdm\n",
    "import time\n",
    "\n",
    "#  환경 변수 로드 및 OpenAI 클라이언트 설정\n",
    "load_dotenv()\n",
    "OPENAI_API_KEY = os.getenv(\"OPENAI_API_KEY\")\n",
    "client = OpenAI(api_key = OPENAI_API_KEY)\n",
    "# 진행률 표시 설정\n",
    "tqdm.pandas()\n",
    "\n",
    "# 요약 함수\n",
    "def summarize_text(text, max_tokens=500):\n",
    "    prompt = f\"Summarize the following book plot in less than 500 characters:\\n\\n{text}\"\n",
    "    try:\n",
    "        response = client.chat.completions.create(\n",
    "            model=\"gpt-4o\",\n",
    "            messages=[\n",
    "                {\"role\": \"system\", \"content\": \"You are a helpful assistant.\"},\n",
    "                {\"role\": \"user\", \"content\": prompt}\n",
    "            ],\n",
    "            max_tokens=max_tokens,\n",
    "            temperature=0.5\n",
    "        )\n",
    "        answer = response.choices[0].message.content.strip()\n",
    "        return answer\n",
    "    except Exception as e:\n",
    "        print(f\"Error: {e}\")\n",
    "        return None\n",
    "\n",
    "# 요약 적용 함수\n",
    "def apply_summarization(text):\n",
    "    if pd.notnull(text) and text.strip() != \"\":\n",
    "        return summarize_text(text)\n",
    "    return \"\"\n",
    "\n",
    "#  처리 범위 설정\n",
    "start_idx = 3001     # 시작 인덱스 (수동 입력)\n",
    "end_idx = 9000  # 끝 인덱스 (수동 입력)\n",
    "\n",
    "#  데이터프레임 슬라이싱 (범위에 맞게 분할)\n",
    "df_chunk = df.iloc[start_idx:end_idx].copy()\n",
    "\n",
    "print(f\"\\n Processing {start_idx} ~ {end_idx} rows...\")\n",
    "\n",
    "#  요약 컬럼 추가\n",
    "df_chunk['Summarized Plot Summary'] = df_chunk['Plot summary'].progress_apply(apply_summarization)\n",
    "\n",
    "#  결과 저장\n",
    "save_path = f'data/booksummaries_summarized_{start_idx}_{end_idx}.csv'\n",
    "df_chunk.to_csv(save_path, index=False)\n",
    "print(f\" 요약 완료! 파일 저장 경로: {save_path}\")\n"
   ]
  },
  {
   "cell_type": "code",
   "execution_count": 19,
   "metadata": {},
   "outputs": [
    {
     "name": "stdout",
     "output_type": "stream",
     "text": [
      "\n",
      " Processing 9001 ~ 16559 rows...\n"
     ]
    },
    {
     "name": "stderr",
     "output_type": "stream",
     "text": [
      "100%|██████████| 7558/7558 [5:09:24<00:00,  2.46s/it]   \n"
     ]
    },
    {
     "name": "stdout",
     "output_type": "stream",
     "text": [
      " 요약 완료! 파일 저장 경로: data/booksummaries_summarized_9001_16559.csv\n"
     ]
    }
   ],
   "source": [
    "import os\n",
    "import pandas as pd\n",
    "from openai import OpenAI\n",
    "from dotenv import load_dotenv\n",
    "from tqdm import tqdm\n",
    "import time\n",
    "\n",
    "#  환경 변수 로드 및 OpenAI 클라이언트 설정\n",
    "load_dotenv()\n",
    "OPENAI_API_KEY = os.getenv(\"OPENAI_API_KEY\")\n",
    "client = OpenAI(api_key = OPENAI_API_KEY)\n",
    "# 진행률 표시 설정\n",
    "tqdm.pandas()\n",
    "\n",
    "# 요약 함수\n",
    "def summarize_text(text, max_tokens=500):\n",
    "    prompt = f\"Summarize the following book plot in less than 500 characters:\\n\\n{text}\"\n",
    "    try:\n",
    "        response = client.chat.completions.create(\n",
    "            model=\"gpt-4o\",\n",
    "            messages=[\n",
    "                {\"role\": \"system\", \"content\": \"You are a helpful assistant.\"},\n",
    "                {\"role\": \"user\", \"content\": prompt}\n",
    "            ],\n",
    "            max_tokens=max_tokens,\n",
    "            temperature=0.5\n",
    "        )\n",
    "        answer = response.choices[0].message.content.strip()\n",
    "        return answer\n",
    "    except Exception as e:\n",
    "        print(f\"Error: {e}\")\n",
    "        return None\n",
    "\n",
    "# 요약 적용 함수\n",
    "def apply_summarization(text):\n",
    "    if pd.notnull(text) and text.strip() != \"\":\n",
    "        return summarize_text(text)\n",
    "    return \"\"\n",
    "\n",
    "#  처리 범위 설정\n",
    "start_idx = 9001     # 시작 인덱스 (수동 입력)\n",
    "end_idx = len(df)  # 끝 인덱스 (수동 입력)\n",
    "\n",
    "#  데이터프레임 슬라이싱 (범위에 맞게 분할)\n",
    "df_chunk = df.iloc[start_idx:end_idx].copy()\n",
    "\n",
    "print(f\"\\n Processing {start_idx} ~ {end_idx} rows...\")\n",
    "\n",
    "#  요약 컬럼 추가\n",
    "df_chunk['Summarized Plot Summary'] = df_chunk['Plot summary'].progress_apply(apply_summarization)\n",
    "\n",
    "#  결과 저장\n",
    "save_path = f'data/booksummaries_summarized_{start_idx}_{end_idx}.csv'\n",
    "df_chunk.to_csv(save_path, index=False)\n",
    "print(f\" 요약 완료! 파일 저장 경로: {save_path}\")\n"
   ]
  }
 ],
 "metadata": {
  "kernelspec": {
   "display_name": "myenv",
   "language": "python",
   "name": "python3"
  },
  "language_info": {
   "codemirror_mode": {
    "name": "ipython",
    "version": 3
   },
   "file_extension": ".py",
   "mimetype": "text/x-python",
   "name": "python",
   "nbconvert_exporter": "python",
   "pygments_lexer": "ipython3",
   "version": "3.12.4"
  }
 },
 "nbformat": 4,
 "nbformat_minor": 2
}
