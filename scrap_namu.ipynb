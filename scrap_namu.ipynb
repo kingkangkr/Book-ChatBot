{
 "cells": [
  {
   "cell_type": "code",
   "execution_count": 3,
   "metadata": {},
   "outputs": [
    {
     "name": "stdout",
     "output_type": "stream",
     "text": [
      "100\n"
     ]
    }
   ],
   "source": [
    "import requests\n",
    "from bs4 import BeautifulSoup\n",
    "\n",
    "# 크롤링할 URL\n",
    "url = \"https://namu.wiki/w/분류:한국%20소설\"\n",
    "\n",
    "# 헤더 설정 (봇 차단 방지)\n",
    "headers = {\n",
    "    \"User-Agent\": \"Mozilla/5.0 (Windows NT 10.0; Win64; x64) AppleWebKit/537.36 (KHTML, like Gecko) Chrome/118.0.0.0 Safari/537.36\"\n",
    "}\n",
    "\n",
    "# 페이지 요청\n",
    "response = requests.get(url, headers=headers)\n",
    "\n",
    "# 응답 상태 확인\n",
    "if response.status_code == 200:\n",
    "    soup = BeautifulSoup(response.text, \"html.parser\")\n",
    "    \n",
    "    # 항목 목록 추출 (li 태그 안의 a 태그 추출)\n",
    "    items = soup.find_all(\"a\", href=True)\n",
    "    \n",
    "    # 텍스트만 추출\n",
    "    extracted_items = []\n",
    "    start_collecting = False  # 41부터 수집 시작\n",
    "    for item in items:\n",
    "        text = item.get_text(strip=True)\n",
    "        if text == \"41\":\n",
    "            start_collecting = True  # '41'부터 수집 시작\n",
    "        if start_collecting:\n",
    "            extracted_items.append(text)\n",
    "        if text == \"모든 것들의 세계\":\n",
    "            break  # '모든 것들의 세계'에서 수집 종료\n",
    "    \n",
    "    # 결과 변수 저장\n",
    "    result = extracted_items\n",
    "\n",
    "    # 결과 출력\n",
    "    print(len(result))\n",
    "else:\n",
    "    print(f\"페이지 요청 실패: {response.status_code}\")\n"
   ]
  },
  {
   "cell_type": "code",
   "execution_count": 4,
   "metadata": {},
   "outputs": [
    {
     "name": "stdout",
     "output_type": "stream",
     "text": [
      "['41', '가시고기(소설)', '가장 무서운 이야기 게임', '간송 전형필(소설)', '강아지똥']\n"
     ]
    }
   ],
   "source": [
    "print(result[:5])"
   ]
  },
  {
   "cell_type": "code",
   "execution_count": 5,
   "metadata": {},
   "outputs": [
    {
     "name": "stdout",
     "output_type": "stream",
     "text": [
      "200\n"
     ]
    }
   ],
   "source": [
    "import requests\n",
    "from bs4 import BeautifulSoup\n",
    "\n",
    "# 크롤링할 URL\n",
    "url = \"https://namu.wiki/w/%EB%B6%84%EB%A5%98:%ED%95%9C%EA%B5%AD%20%EC%86%8C%EC%84%A4?namespace=%EB%AC%B8%EC%84%9C&cfrom=%EB%AA%A8%EB%9E%98%ED%86%B1%20%EC%9D%B4%EC%95%BC%EA%B8%B0\"\n",
    "\n",
    "# 헤더 설정 (봇 차단 방지)\n",
    "headers = {\n",
    "    \"User-Agent\": \"Mozilla/5.0 (Windows NT 10.0; Win64; x64) AppleWebKit/537.36 (KHTML, like Gecko) Chrome/118.0.0.0 Safari/537.36\"\n",
    "}\n",
    "\n",
    "# 페이지 요청\n",
    "response = requests.get(url, headers=headers)\n",
    "\n",
    "# 응답 상태 확인\n",
    "if response.status_code == 200:\n",
    "    soup = BeautifulSoup(response.text, \"html.parser\")\n",
    "    \n",
    "    # 항목 목록 추출 (li 태그 안의 a 태그 추출)\n",
    "    items = soup.find_all(\"a\", href=True)\n",
    "    \n",
    "    # 텍스트만 추출\n",
    "    \n",
    "    start_collecting = False  # 41부터 수집 시작\n",
    "    for item in items:\n",
    "        text = item.get_text(strip=True)\n",
    "        if text == \"모래톱 이야기\":\n",
    "            start_collecting = True  # '41'부터 수집 시작\n",
    "        if start_collecting:\n",
    "            extracted_items.append(text)\n",
    "        if text == \"아가미(소설)\":\n",
    "            break  # '모든 것들의 세계'에서 수집 종료\n",
    "    \n",
    "    # 결과 변수 저장\n",
    "    result = extracted_items\n",
    "\n",
    "    # 결과 출력\n",
    "    print(len(result))\n",
    "else:\n",
    "    print(f\"페이지 요청 실패: {response.status_code}\")\n"
   ]
  },
  {
   "cell_type": "code",
   "execution_count": 6,
   "metadata": {},
   "outputs": [
    {
     "name": "stdout",
     "output_type": "stream",
     "text": [
      "300\n"
     ]
    }
   ],
   "source": [
    "import requests\n",
    "from bs4 import BeautifulSoup\n",
    "\n",
    "# 크롤링할 URL\n",
    "url = \"https://namu.wiki/w/%EB%B6%84%EB%A5%98:%ED%95%9C%EA%B5%AD%20%EC%86%8C%EC%84%A4?namespace=%EB%AC%B8%EC%84%9C&cuntil=%EC%A0%95%EC%83%9D\"\n",
    "\n",
    "# 헤더 설정 (봇 차단 방지)\n",
    "headers = {\n",
    "    \"User-Agent\": \"Mozilla/5.0 (Windows NT 10.0; Win64; x64) AppleWebKit/537.36 (KHTML, like Gecko) Chrome/118.0.0.0 Safari/537.36\"\n",
    "}\n",
    "\n",
    "# 페이지 요청\n",
    "response = requests.get(url, headers=headers)\n",
    "\n",
    "# 응답 상태 확인\n",
    "if response.status_code == 200:\n",
    "    soup = BeautifulSoup(response.text, \"html.parser\")\n",
    "    \n",
    "    # 항목 목록 추출 (li 태그 안의 a 태그 추출)\n",
    "    items = soup.find_all(\"a\", href=True)\n",
    "    \n",
    "    # 텍스트만 추출\n",
    "    \n",
    "    start_collecting = False  # 41부터 수집 시작\n",
    "    for item in items:\n",
    "        text = item.get_text(strip=True)\n",
    "        if text == \"아몬드(소설)\":\n",
    "            start_collecting = True  # '41'부터 수집 시작\n",
    "        if start_collecting:\n",
    "            extracted_items.append(text)\n",
    "        if text == \"정생\":\n",
    "            break  # '모든 것들의 세계'에서 수집 종료\n",
    "    \n",
    "    # 결과 변수 저장\n",
    "    result = extracted_items\n",
    "\n",
    "    # 결과 출력\n",
    "    print(len(result))\n",
    "else:\n",
    "    print(f\"페이지 요청 실패: {response.status_code}\")\n"
   ]
  },
  {
   "cell_type": "code",
   "execution_count": 7,
   "metadata": {},
   "outputs": [
    {
     "name": "stdout",
     "output_type": "stream",
     "text": [
      "393\n"
     ]
    }
   ],
   "source": [
    "import requests\n",
    "from bs4 import BeautifulSoup\n",
    "\n",
    "# 크롤링할 URL\n",
    "url = \"https://namu.wiki/w/%EB%B6%84%EB%A5%98:%ED%95%9C%EA%B5%AD%20%EC%86%8C%EC%84%A4?namespace=%EB%AC%B8%EC%84%9C&cfrom=%EC%A0%95%EC%83%9D,%20%EB%91%90%20%EB%B2%88%EC%A7%B8%20%EC%9D%B4%EC%95%BC%EA%B8%B0\"\n",
    "\n",
    "# 헤더 설정 (봇 차단 방지)\n",
    "headers = {\n",
    "    \"User-Agent\": \"Mozilla/5.0 (Windows NT 10.0; Win64; x64) AppleWebKit/537.36 (KHTML, like Gecko) Chrome/118.0.0.0 Safari/537.36\"\n",
    "}\n",
    "\n",
    "# 페이지 요청\n",
    "response = requests.get(url, headers=headers)\n",
    "\n",
    "# 응답 상태 확인\n",
    "if response.status_code == 200:\n",
    "    soup = BeautifulSoup(response.text, \"html.parser\")\n",
    "    \n",
    "    # 항목 목록 추출 (li 태그 안의 a 태그 추출)\n",
    "    items = soup.find_all(\"a\", href=True)\n",
    "    \n",
    "    # 텍스트만 추출\n",
    "    \n",
    "    start_collecting = False  # 41부터 수집 시작\n",
    "    for item in items:\n",
    "        text = item.get_text(strip=True)\n",
    "        if text == \"정생, 두 번째 이야기\":\n",
    "            start_collecting = True  # '41'부터 수집 시작\n",
    "        if start_collecting:\n",
    "            extracted_items.append(text)\n",
    "        if text == \"흰 밤과 푸른 달\":\n",
    "            break  # '모든 것들의 세계'에서 수집 종료\n",
    "    \n",
    "    # 결과 변수 저장\n",
    "    result = extracted_items\n",
    "\n",
    "    # 결과 출력\n",
    "    print(len(result))\n",
    "else:\n",
    "    print(f\"페이지 요청 실패: {response.status_code}\")\n"
   ]
  },
  {
   "cell_type": "code",
   "execution_count": 8,
   "metadata": {},
   "outputs": [
    {
     "name": "stdout",
     "output_type": "stream",
     "text": [
      "['41', '가시고기(소설)', '가장 무서운 이야기 게임', '간송 전형필(소설)', '강아지똥', '강철거인온다르', '강철비(소설)', '거짓말(소설)', '검은 꽃', '검은 사슴', '검은 절벽', '겨울나그네', '겨울새', '결혼은, 미친 짓이다', '고양이를 잡아먹은 오리', '고잉 홈(문지혁 소설집)', '골품의 탑', '공룡전사 빈', '공터에서', '과찬의 말씀', '관촌수필', '광장(소설)', '괴물(한국 소설)', '구세주가 된 로봇에 대하여', '구운몽(최인훈)', '구의 증명', '국가의 사생활', '권태', '그 많던 싱아는 누가 다 먹었을까', '그 변기의 역학', '그 해 여름', '그날이 오면', '글자전쟁', '금시조', '기록된 죽음', '기억 속의 들꽃', '기적의 발단', '긴긴밤', '까막눈 삼디기', '나는 나를 파괴할 권리가 있다', '나는 죽으러 간다', '나비를 잡는 아버지', '나비야 청산가자더니', '나쁜 어린이 표', '나의 돈 많은 고등학교 친구', '나의 성인식', '나의 아름다운 정원', '나인(소설)', '난장이가 쏘아올린 작은 공', '날 3부작', '날개(소설)', '남북(소설)', '낭만 사랑니', '낯익은 세상', '내 심장을 쏴라', '내 인생의 스프링 캠프', '내가 그린 히말라야시다 그림', '내게 거짓말을 해봐', '내일을 부르는 키스', '너머의 아이들', '너의 바다가 되어', '노아의 어머니들', '논 이야기', '누가 걸어간다', '눈길(소설)', '늑대 이식', '다 음자리 클럽', '다이아몬드는 영원히', '단(소설)', '달에서 온 불법 체류자', '당신과 꼭 결혼하고 싶습니다', '당신의 그림자는 월요일', '대설주의보(소설)', '대전쟁', '더 컬트', '덧니가 보고 싶어', '도둑맞은 거짓말', '도서관을 떠나는 책들을 위하여', '독고솜에게 반하면', '독도왜란', '독학자', '두근두근 내 인생', '두렵지 아니한가', '두만강', '들소(소설)', '딴따라호엔 보물이 많다', '땅꼬마 도단이', '떡집 시리즈', '마귀의 아들', '마루타(소설)', '마법소녀 도우리', '마의 백광현', '마이 테라리움 프로젝트', '마지막 해커', '마치', '만세전', '망설이는 손님은 꽃집에 찾아든다', '맨홀(동음이의어)', '멧돼지가 살던 별', '모든 것들의 세계', '모래톱 이야기', '모랫말 아이들', '목청과 뱃심으로', '몽실 언니', '뫼비우스의 띠(소설)', '무소의 뿔처럼 혼자서 가라', '무엇이 소년을 이렇게 만들었나', '무영탑(소설)', '무정(소설)', '무중력 증후군', '문화류씨의 공포 괴담집', '미나(소설)', '미요와 요미', '민족의 죄인', '바라쿠다', '바람바람바람(소설)', '바람의 파이터', '바람의 화원', '바람이 노래한다', '바벨탑의 제왕', '바이퍼케이션 하이드라', '반역자를 위한 우리말 공부', '방금 떠나온 세계', '방란장 주인', '배꼽을 주제로 한 변주곡', '배려', '백 번째 생일선물', '백색부유물질', '벌레 이야기', '베니스의 개성상인', '변경(소설)', '별의 씨앗', '병신과 머저리', '보보와 아치', '복수전자', '봄과 겨울의 행방불명', '봄에 지는 꽃', '봉래도 삼신 타령', '봉사자', '봉황작전', '불가사리(소설)', '불놀이', '불편한 편의점', '붉은 늑대 여자', '붉은 새벽', '붉은 하늘', '브로콜리 펀치', '비누인형', '비눗방울 퐁', '비데리 논 에쎄: 무한대로의 모험', '빛의 제국', '빠리의 나비부인', '뾰족한 방법', '사기꾼의 심장은 천천히 뛴다', '사냥(소설)', '사람의 아들(소설)', '사랑이라니, 선영아', '사로잡힌 악령', '사육장 쪽으로', '산을 미는 강', '살라오의 근성', '살인자의 기억법', '살인자의 쇼핑몰', '상록수(소설)', '상속 대소동', '생명연습', '생명이 들려준 이야기', '생인손(소설)', '서편제(소설)', '선택(소설)', '설이(도서)', '성녀와 마녀', '세계를 건너 너에게 갈게', '세계의 끝(소설)', '세상에서 가장 아름다운 이별', '세차(단편소설)', '소란과 입맞춤', '소문의 벽', '소설 목민심서', '소수의견', '속 양들의 침묵', '손톱(소설)', '순이 삼촌', '술 권하는 사회', '슈퍼맨이었던 사나이', '스몰', '슬러지(소설)', '시간가게', '시간을 파는 상점', '시간의 문', '시인(소설)', '시장과 전장', '식물, 상점', '식물, 상점(연재소설)', '신기생뎐', '신의 발자국', '실미도(소설)', '싸드(소설)', '싸릿골의 신화', '아가미(소설)', '아몬드(소설)', '아무르(소설)', '아버지(소설)', '아오이가든', '아우를 위하여', '아이언사이즈', '아홉 꼬리의 고양이는 조용히 지내고 싶었다', '아홉 살 하다', '아홉 켤레의 구두로 남은 사내', '아홉살 인생', '악역으로 살아간다는 것은 1', '악플 전쟁', '악플러(소설)', '알파 베스티어리', '압록강은 흐른다', '야간 산행 괴담', '얄개전', '어느 날 내가 죽었습니다', '어둠의 자식들', '어떤 솔거의 죽음', '언더 더 아우터', '엄마 까투리', '역마', '역사를 만든 여왕 리더십 시리즈', '연화검, 혹은 흩날리는 티끌', '열세 번째 계절의 소녀들', '염화미소', '영자의 전성시대', '오늘은 화해하지 않을 여자들', '오딧셈의 수학 대모험', '오란씨', '오래된 정원', '오렌지 맛 오렌지', '오발탄', '오아시스 세탁소 습격사건', '오얏꽃 향기', '오즈의 의류수거함', '옥상에서 만나요', '완득이', '완장(소설)', '왕도의 비밀', '용과 용의 대격전', '용사없는 하늘 아래', '용이 사는 마을', '우리가 미역과 만나기 위해서', '우리가 소멸하는 법', '우리는 모두 예쁘다', '우리들의 일그러진 영웅', '우리들의 행복한 시간', '우리의 소원은 전쟁', '우주 호텔', '웃는 얼굴', '원미동 사람들', '웨하스 소년', '웰컴! 미스터 리', '위저드 베이커리', '위탄인 시리즈', '위풍당당 여우 꼬리', '유령과 토마토', '유명한 여자', '유일한(어느날 갑자기)', '유자소전', '유정(소설)', '유진과 유진', '육촌형', '은교', '은비령', '이문열/작품 목록', '이세계 과몰입 파티', '이수일과 심순애', '이씨춘추', '이웃집 생일파티', '이제 그만 여기서 나가자', '이청준/작품 목록', '이토록 단일한 마음', '익명소설', '익명의 섬', '인력거꾼(소설)', '인생화보', '인샬라', '인형 눈알 붙이기', '일요일 스키야키 식당', '읽은 책은 반납대에 두세요', '임진왜란(김경진)', '임진왜란(동음이의어)', '잉여인간(소설)', '자꾸만 투명해져요', '자두의 일기장', '자유부인', '작전명 충무', '장군의 아들(소설)', '장마(소설)', '장수하늘소', '장정일 삼국지', '재인, 재욱, 재훈', '저녁의 구애', '전환기관', '젊은 날의 초상', '정글만리', '정생', '정생, 두 번째 이야기', '제3', '제3의 시나리오', '제5열(소설)', '제발 그 피부과엔 가지마세요', '조일전쟁', '좋은 곳에서 만나요', '죽을 만큼 무서운 것', '죽음과 소녀', '죽음이 불법인 세계', '지구영웅전설', '지주회시', '지평선을 넘다', '지하 정원', '집 떠나 집', '집 보는 남자', '집(동음이의어)', '채식주의자(소설)', '천국의 계단', '천국의 소년', '천변풍경', '천사들의 요람', '철수는 철수다', '철쭉제', '첫 문장이 유명한 작품/소설/한국', '청년의인당', '초대받은 아이들', '총잡이들', '추락하는 것은 날개가 있다', '치숙', '친구가 되어 드립니다', '친애하는 쇠고기', '칼', '캇파의 머리 접시', '코발트 빛 전생', '퀴즈쇼(소설)', '키스의 기원', '킬러의 사생활', '탁류', '탄금: 금을 삼키다', '탈출(강신성)', '태백산맥(동음이의어)', '태평천하', '터널(소설)', '테러리스트', '톡톡톡(소설)', '통일한국 제1고등학교', '퇴폐적 할리우드 배우 1권', '투계', '투명인간(동음이의어)', '투명인간(한국 소설)', '트루 화이트', '팀 킬', '파멸로부터의 생존자들', '파이어 데이', '페인트(소설)', '편리한 진실', '평양에서 걸려온 전화', '폐광', '폭군(소설)', '표본실의 청개구리', '푸른 머리칼의 살인마', '푸른 사자 와니니', '푸른 하늘 그보다도', '플라스틱 세대(연재소설)', '플라톤이 들려주는 이데아 이야기', '피프티 피플', '핑스', '핑크 팰리스 러브', '하느님이 우리 옆집에 살고 있네요', '하늘 씨름', '하얀전쟁', '한 그루의 농담', '한권으로 읽는 소설 삼국지', '한일전쟁(소설)', '한중전쟁(소설)', '해를 품은 달', '해피 쿠키 이어', '행복한 남자', '행운이라는 아이', '현실 온라인 게임', '호모 엑세쿠탄스', '호숫가의 괴물들', '혼자 뜨는 달', '화랑의 후예', '화산도', '환상의 사이', '황금사과(한국 소설)', '황제를 위하여', '황홀한 사춘기', '훈장(소설)', '흰', '흰 밤과 푸른 달']\n"
     ]
    }
   ],
   "source": [
    "print(extracted_items)"
   ]
  },
  {
   "cell_type": "code",
   "execution_count": 9,
   "metadata": {},
   "outputs": [],
   "source": [
    "with open(\"namu_wiki_novel.txt\", \"w\", encoding=\"utf-8\") as file:\n",
    "        for item in extracted_items:\n",
    "            file.write(item + \"\\n\")"
   ]
  },
  {
   "cell_type": "code",
   "execution_count": null,
   "metadata": {},
   "outputs": [],
   "source": []
  }
 ],
 "metadata": {
  "kernelspec": {
   "display_name": "myenv",
   "language": "python",
   "name": "python3"
  },
  "language_info": {
   "codemirror_mode": {
    "name": "ipython",
    "version": 3
   },
   "file_extension": ".py",
   "mimetype": "text/x-python",
   "name": "python",
   "nbconvert_exporter": "python",
   "pygments_lexer": "ipython3",
   "version": "3.12.4"
  }
 },
 "nbformat": 4,
 "nbformat_minor": 2
}
